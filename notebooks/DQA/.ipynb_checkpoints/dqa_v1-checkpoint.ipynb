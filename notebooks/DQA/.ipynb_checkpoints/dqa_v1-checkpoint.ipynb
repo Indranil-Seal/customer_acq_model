{
 "cells": [
  {
   "cell_type": "code",
   "execution_count": 13,
   "id": "a61c6f13",
   "metadata": {},
   "outputs": [],
   "source": [
    "import os\n",
    "import pandas as pd\n",
    "from pandas_profiling import ProfileReport\n",
    "import datetime\n",
    "import numpy as np"
   ]
  },
  {
   "cell_type": "code",
   "execution_count": 11,
   "id": "7d744e56",
   "metadata": {},
   "outputs": [],
   "source": [
    "rawdata_loc = \"D:\\Data & Projects\\Customer Acquisition Model\\customer_acq_model\\data\\\\01_raw\"\n",
    "reporting_loc = \"D:\\Data & Projects\\Customer Acquisition Model\\customer_acq_model\\data\\\\03_reporting\""
   ]
  },
  {
   "cell_type": "code",
   "execution_count": 7,
   "id": "f626d610",
   "metadata": {},
   "outputs": [
    {
     "data": {
      "text/html": [
       "<div>\n",
       "<style scoped>\n",
       "    .dataframe tbody tr th:only-of-type {\n",
       "        vertical-align: middle;\n",
       "    }\n",
       "\n",
       "    .dataframe tbody tr th {\n",
       "        vertical-align: top;\n",
       "    }\n",
       "\n",
       "    .dataframe thead th {\n",
       "        text-align: right;\n",
       "    }\n",
       "</style>\n",
       "<table border=\"1\" class=\"dataframe\">\n",
       "  <thead>\n",
       "    <tr style=\"text-align: right;\">\n",
       "      <th></th>\n",
       "      <th>food_category</th>\n",
       "      <th>food_department</th>\n",
       "      <th>food_family</th>\n",
       "      <th>store_sales(in millions)</th>\n",
       "      <th>store_cost(in millions)</th>\n",
       "      <th>unit_sales(in millions)</th>\n",
       "      <th>promotion_name</th>\n",
       "      <th>sales_country</th>\n",
       "      <th>marital_status</th>\n",
       "      <th>gender</th>\n",
       "      <th>...</th>\n",
       "      <th>grocery_sqft</th>\n",
       "      <th>frozen_sqft</th>\n",
       "      <th>meat_sqft</th>\n",
       "      <th>coffee_bar</th>\n",
       "      <th>video_store</th>\n",
       "      <th>salad_bar</th>\n",
       "      <th>prepared_food</th>\n",
       "      <th>florist</th>\n",
       "      <th>media_type</th>\n",
       "      <th>cost</th>\n",
       "    </tr>\n",
       "  </thead>\n",
       "  <tbody>\n",
       "    <tr>\n",
       "      <th>0</th>\n",
       "      <td>Breakfast Foods</td>\n",
       "      <td>Frozen Foods</td>\n",
       "      <td>Food</td>\n",
       "      <td>7.36</td>\n",
       "      <td>2.7232</td>\n",
       "      <td>4.0</td>\n",
       "      <td>Bag Stuffers</td>\n",
       "      <td>USA</td>\n",
       "      <td>M</td>\n",
       "      <td>F</td>\n",
       "      <td>...</td>\n",
       "      <td>18670.0</td>\n",
       "      <td>5415.0</td>\n",
       "      <td>3610.0</td>\n",
       "      <td>1.0</td>\n",
       "      <td>1.0</td>\n",
       "      <td>1.0</td>\n",
       "      <td>1.0</td>\n",
       "      <td>1.0</td>\n",
       "      <td>Daily Paper, Radio</td>\n",
       "      <td>126.62</td>\n",
       "    </tr>\n",
       "    <tr>\n",
       "      <th>1</th>\n",
       "      <td>Breakfast Foods</td>\n",
       "      <td>Frozen Foods</td>\n",
       "      <td>Food</td>\n",
       "      <td>5.52</td>\n",
       "      <td>2.5944</td>\n",
       "      <td>3.0</td>\n",
       "      <td>Cash Register Lottery</td>\n",
       "      <td>USA</td>\n",
       "      <td>M</td>\n",
       "      <td>M</td>\n",
       "      <td>...</td>\n",
       "      <td>18670.0</td>\n",
       "      <td>5415.0</td>\n",
       "      <td>3610.0</td>\n",
       "      <td>1.0</td>\n",
       "      <td>1.0</td>\n",
       "      <td>1.0</td>\n",
       "      <td>1.0</td>\n",
       "      <td>1.0</td>\n",
       "      <td>Daily Paper, Radio</td>\n",
       "      <td>59.86</td>\n",
       "    </tr>\n",
       "    <tr>\n",
       "      <th>2</th>\n",
       "      <td>Breakfast Foods</td>\n",
       "      <td>Frozen Foods</td>\n",
       "      <td>Food</td>\n",
       "      <td>3.68</td>\n",
       "      <td>1.3616</td>\n",
       "      <td>2.0</td>\n",
       "      <td>High Roller Savings</td>\n",
       "      <td>USA</td>\n",
       "      <td>S</td>\n",
       "      <td>F</td>\n",
       "      <td>...</td>\n",
       "      <td>18670.0</td>\n",
       "      <td>5415.0</td>\n",
       "      <td>3610.0</td>\n",
       "      <td>1.0</td>\n",
       "      <td>1.0</td>\n",
       "      <td>1.0</td>\n",
       "      <td>1.0</td>\n",
       "      <td>1.0</td>\n",
       "      <td>Daily Paper, Radio</td>\n",
       "      <td>84.16</td>\n",
       "    </tr>\n",
       "    <tr>\n",
       "      <th>3</th>\n",
       "      <td>Breakfast Foods</td>\n",
       "      <td>Frozen Foods</td>\n",
       "      <td>Food</td>\n",
       "      <td>3.68</td>\n",
       "      <td>1.1776</td>\n",
       "      <td>2.0</td>\n",
       "      <td>Cash Register Lottery</td>\n",
       "      <td>USA</td>\n",
       "      <td>M</td>\n",
       "      <td>F</td>\n",
       "      <td>...</td>\n",
       "      <td>18670.0</td>\n",
       "      <td>5415.0</td>\n",
       "      <td>3610.0</td>\n",
       "      <td>1.0</td>\n",
       "      <td>1.0</td>\n",
       "      <td>1.0</td>\n",
       "      <td>1.0</td>\n",
       "      <td>1.0</td>\n",
       "      <td>In-Store Coupon</td>\n",
       "      <td>95.78</td>\n",
       "    </tr>\n",
       "    <tr>\n",
       "      <th>4</th>\n",
       "      <td>Breakfast Foods</td>\n",
       "      <td>Frozen Foods</td>\n",
       "      <td>Food</td>\n",
       "      <td>4.08</td>\n",
       "      <td>1.4280</td>\n",
       "      <td>3.0</td>\n",
       "      <td>Double Down Sale</td>\n",
       "      <td>USA</td>\n",
       "      <td>M</td>\n",
       "      <td>M</td>\n",
       "      <td>...</td>\n",
       "      <td>18670.0</td>\n",
       "      <td>5415.0</td>\n",
       "      <td>3610.0</td>\n",
       "      <td>1.0</td>\n",
       "      <td>1.0</td>\n",
       "      <td>1.0</td>\n",
       "      <td>1.0</td>\n",
       "      <td>1.0</td>\n",
       "      <td>Radio</td>\n",
       "      <td>50.79</td>\n",
       "    </tr>\n",
       "  </tbody>\n",
       "</table>\n",
       "<p>5 rows × 40 columns</p>\n",
       "</div>"
      ],
      "text/plain": [
       "     food_category food_department food_family  store_sales(in millions)  \\\n",
       "0  Breakfast Foods    Frozen Foods        Food                      7.36   \n",
       "1  Breakfast Foods    Frozen Foods        Food                      5.52   \n",
       "2  Breakfast Foods    Frozen Foods        Food                      3.68   \n",
       "3  Breakfast Foods    Frozen Foods        Food                      3.68   \n",
       "4  Breakfast Foods    Frozen Foods        Food                      4.08   \n",
       "\n",
       "   store_cost(in millions)  unit_sales(in millions)         promotion_name  \\\n",
       "0                   2.7232                      4.0           Bag Stuffers   \n",
       "1                   2.5944                      3.0  Cash Register Lottery   \n",
       "2                   1.3616                      2.0    High Roller Savings   \n",
       "3                   1.1776                      2.0  Cash Register Lottery   \n",
       "4                   1.4280                      3.0       Double Down Sale   \n",
       "\n",
       "  sales_country marital_status gender  ...  grocery_sqft frozen_sqft  \\\n",
       "0           USA              M      F  ...       18670.0      5415.0   \n",
       "1           USA              M      M  ...       18670.0      5415.0   \n",
       "2           USA              S      F  ...       18670.0      5415.0   \n",
       "3           USA              M      F  ...       18670.0      5415.0   \n",
       "4           USA              M      M  ...       18670.0      5415.0   \n",
       "\n",
       "  meat_sqft coffee_bar video_store  salad_bar prepared_food  florist  \\\n",
       "0    3610.0        1.0         1.0        1.0           1.0      1.0   \n",
       "1    3610.0        1.0         1.0        1.0           1.0      1.0   \n",
       "2    3610.0        1.0         1.0        1.0           1.0      1.0   \n",
       "3    3610.0        1.0         1.0        1.0           1.0      1.0   \n",
       "4    3610.0        1.0         1.0        1.0           1.0      1.0   \n",
       "\n",
       "           media_type    cost  \n",
       "0  Daily Paper, Radio  126.62  \n",
       "1  Daily Paper, Radio   59.86  \n",
       "2  Daily Paper, Radio   84.16  \n",
       "3     In-Store Coupon   95.78  \n",
       "4               Radio   50.79  \n",
       "\n",
       "[5 rows x 40 columns]"
      ]
     },
     "execution_count": 7,
     "metadata": {},
     "output_type": "execute_result"
    }
   ],
   "source": [
    "# pulling raw media - sales - customer demography - cost of acq customers\n",
    "data = pd.read_csv(f\"{rawdata_loc}\\\\media_costs_data.csv\")\n",
    "data.head(5)"
   ]
  },
  {
   "cell_type": "code",
   "execution_count": 20,
   "id": "4b919a57",
   "metadata": {},
   "outputs": [
    {
     "data": {
      "application/vnd.jupyter.widget-view+json": {
       "model_id": "21efd2cd5686483eaf666c379f44a159",
       "version_major": 2,
       "version_minor": 0
      },
      "text/plain": [
       "Summarize dataset:   0%|          | 0/5 [00:00<?, ?it/s]"
      ]
     },
     "metadata": {},
     "output_type": "display_data"
    },
    {
     "data": {
      "application/vnd.jupyter.widget-view+json": {
       "model_id": "c40b6f753d9e4102ad0fa003fb96ab85",
       "version_major": 2,
       "version_minor": 0
      },
      "text/plain": [
       "Generate report structure:   0%|          | 0/1 [00:00<?, ?it/s]"
      ]
     },
     "metadata": {},
     "output_type": "display_data"
    },
    {
     "data": {
      "application/vnd.jupyter.widget-view+json": {
       "model_id": "b4e8ada4ed264952b7cdb0061981ba80",
       "version_major": 2,
       "version_minor": 0
      },
      "text/plain": [
       "Render HTML:   0%|          | 0/1 [00:00<?, ?it/s]"
      ]
     },
     "metadata": {},
     "output_type": "display_data"
    },
    {
     "data": {
      "application/vnd.jupyter.widget-view+json": {
       "model_id": "d70ed3e890844d56b173df674632685f",
       "version_major": 2,
       "version_minor": 0
      },
      "text/plain": [
       "Export report to file:   0%|          | 0/1 [00:00<?, ?it/s]"
      ]
     },
     "metadata": {},
     "output_type": "display_data"
    }
   ],
   "source": [
    "# Using Pandas Profiling to Generate Initial Exploration\n",
    "profile = ProfileReport(data, title=\"Profiling Report: Raw Data\")\n",
    "current_time = datetime.datetime.now().strftime(\"%Y-%m-%d\")\n",
    "profile.to_file(f\"{reporting_loc}\\\\DQAreport_{current_time}.html\") "
   ]
  },
  {
   "cell_type": "code",
   "execution_count": null,
   "id": "df26481f",
   "metadata": {},
   "outputs": [],
   "source": [
    "\n"
   ]
  }
 ],
 "metadata": {
  "kernelspec": {
   "display_name": "Python 3 (ipykernel)",
   "language": "python",
   "name": "python3"
  },
  "language_info": {
   "codemirror_mode": {
    "name": "ipython",
    "version": 3
   },
   "file_extension": ".py",
   "mimetype": "text/x-python",
   "name": "python",
   "nbconvert_exporter": "python",
   "pygments_lexer": "ipython3",
   "version": "3.9.9"
  }
 },
 "nbformat": 4,
 "nbformat_minor": 5
}
