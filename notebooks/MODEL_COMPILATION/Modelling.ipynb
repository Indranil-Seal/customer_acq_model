{
 "cells": [
  {
   "cell_type": "code",
   "execution_count": 104,
   "id": "2935b313-3c3f-4c3f-ae69-c30d7b14a96d",
   "metadata": {},
   "outputs": [],
   "source": [
    "import os\n",
    "import pandas as pd\n",
    "import numpy as np\n",
    "from sklearn.model_selection import train_test_split\n",
    "from sklearn.tree import DecisionTreeRegressor\n",
    "from sklearn.metrics import mean_squared_error, r2_score\n",
    "import matplotlib.pyplot as plt\n",
    "from sklearn.ensemble import RandomForestRegressor\n",
    "from sklearn.metrics import mean_squared_error, r2_score"
   ]
  },
  {
   "cell_type": "code",
   "execution_count": 10,
   "id": "c104ea09-7402-4c24-bd51-24d952798103",
   "metadata": {},
   "outputs": [],
   "source": [
    "rawdata_loc = \"D:\\Projects_IndranilDa\\Customer_Acq_Model\\customer_acq_model\\data\\\\01_raw\"\n",
    "reporting_loc = \"D:\\Projects_IndranilDa\\Customer_Acq_Model\\customer_acq_model\\data\\\\03_reporting\" \n",
    "intermediate_loc = \"D:\\Projects_IndranilDa\\Customer_Acq_Model\\customer_acq_model\\data\\\\02_intermediate\""
   ]
  },
  {
   "cell_type": "code",
   "execution_count": 12,
   "id": "7cf8c668-9085-484e-8296-dacab0e40e50",
   "metadata": {},
   "outputs": [
    {
     "data": {
      "text/html": [
       "<div>\n",
       "<style scoped>\n",
       "    .dataframe tbody tr th:only-of-type {\n",
       "        vertical-align: middle;\n",
       "    }\n",
       "\n",
       "    .dataframe tbody tr th {\n",
       "        vertical-align: top;\n",
       "    }\n",
       "\n",
       "    .dataframe thead th {\n",
       "        text-align: right;\n",
       "    }\n",
       "</style>\n",
       "<table border=\"1\" class=\"dataframe\">\n",
       "  <thead>\n",
       "    <tr style=\"text-align: right;\">\n",
       "      <th></th>\n",
       "      <th>store_sales(in millions)</th>\n",
       "      <th>store_cost(in millions)</th>\n",
       "      <th>unit_sales(in millions)</th>\n",
       "      <th>marital_status</th>\n",
       "      <th>gender</th>\n",
       "      <th>total_children</th>\n",
       "      <th>education</th>\n",
       "      <th>member_card</th>\n",
       "      <th>occupation</th>\n",
       "      <th>houseowner</th>\n",
       "      <th>...</th>\n",
       "      <th>media_type_Daily Paper, Radio</th>\n",
       "      <th>media_type_Daily Paper, Radio, TV</th>\n",
       "      <th>media_type_In-Store Coupon</th>\n",
       "      <th>media_type_Product Attachment</th>\n",
       "      <th>media_type_Radio</th>\n",
       "      <th>media_type_Street Handout</th>\n",
       "      <th>media_type_Sunday Paper</th>\n",
       "      <th>media_type_Sunday Paper, Radio</th>\n",
       "      <th>media_type_Sunday Paper, Radio, TV</th>\n",
       "      <th>media_type_TV</th>\n",
       "    </tr>\n",
       "  </thead>\n",
       "  <tbody>\n",
       "    <tr>\n",
       "      <th>0</th>\n",
       "      <td>0.305667</td>\n",
       "      <td>0.267690</td>\n",
       "      <td>0.6</td>\n",
       "      <td>1</td>\n",
       "      <td>1</td>\n",
       "      <td>0.2</td>\n",
       "      <td>1.00</td>\n",
       "      <td>0.666667</td>\n",
       "      <td>0.75</td>\n",
       "      <td>1</td>\n",
       "      <td>...</td>\n",
       "      <td>1</td>\n",
       "      <td>0</td>\n",
       "      <td>0</td>\n",
       "      <td>0</td>\n",
       "      <td>0</td>\n",
       "      <td>0</td>\n",
       "      <td>0</td>\n",
       "      <td>0</td>\n",
       "      <td>0</td>\n",
       "      <td>0</td>\n",
       "    </tr>\n",
       "    <tr>\n",
       "      <th>1</th>\n",
       "      <td>0.223561</td>\n",
       "      <td>0.254222</td>\n",
       "      <td>0.4</td>\n",
       "      <td>1</td>\n",
       "      <td>0</td>\n",
       "      <td>0.0</td>\n",
       "      <td>0.50</td>\n",
       "      <td>0.000000</td>\n",
       "      <td>1.00</td>\n",
       "      <td>1</td>\n",
       "      <td>...</td>\n",
       "      <td>1</td>\n",
       "      <td>0</td>\n",
       "      <td>0</td>\n",
       "      <td>0</td>\n",
       "      <td>0</td>\n",
       "      <td>0</td>\n",
       "      <td>0</td>\n",
       "      <td>0</td>\n",
       "      <td>0</td>\n",
       "      <td>0</td>\n",
       "    </tr>\n",
       "    <tr>\n",
       "      <th>2</th>\n",
       "      <td>0.141455</td>\n",
       "      <td>0.125312</td>\n",
       "      <td>0.2</td>\n",
       "      <td>0</td>\n",
       "      <td>1</td>\n",
       "      <td>0.8</td>\n",
       "      <td>1.00</td>\n",
       "      <td>0.666667</td>\n",
       "      <td>0.50</td>\n",
       "      <td>0</td>\n",
       "      <td>...</td>\n",
       "      <td>1</td>\n",
       "      <td>0</td>\n",
       "      <td>0</td>\n",
       "      <td>0</td>\n",
       "      <td>0</td>\n",
       "      <td>0</td>\n",
       "      <td>0</td>\n",
       "      <td>0</td>\n",
       "      <td>0</td>\n",
       "      <td>0</td>\n",
       "    </tr>\n",
       "    <tr>\n",
       "      <th>3</th>\n",
       "      <td>0.141455</td>\n",
       "      <td>0.106072</td>\n",
       "      <td>0.2</td>\n",
       "      <td>1</td>\n",
       "      <td>1</td>\n",
       "      <td>0.4</td>\n",
       "      <td>0.75</td>\n",
       "      <td>1.000000</td>\n",
       "      <td>0.50</td>\n",
       "      <td>1</td>\n",
       "      <td>...</td>\n",
       "      <td>0</td>\n",
       "      <td>0</td>\n",
       "      <td>1</td>\n",
       "      <td>0</td>\n",
       "      <td>0</td>\n",
       "      <td>0</td>\n",
       "      <td>0</td>\n",
       "      <td>0</td>\n",
       "      <td>0</td>\n",
       "      <td>0</td>\n",
       "    </tr>\n",
       "    <tr>\n",
       "      <th>4</th>\n",
       "      <td>0.159304</td>\n",
       "      <td>0.132256</td>\n",
       "      <td>0.4</td>\n",
       "      <td>1</td>\n",
       "      <td>0</td>\n",
       "      <td>0.0</td>\n",
       "      <td>1.00</td>\n",
       "      <td>1.000000</td>\n",
       "      <td>0.75</td>\n",
       "      <td>0</td>\n",
       "      <td>...</td>\n",
       "      <td>0</td>\n",
       "      <td>0</td>\n",
       "      <td>0</td>\n",
       "      <td>0</td>\n",
       "      <td>1</td>\n",
       "      <td>0</td>\n",
       "      <td>0</td>\n",
       "      <td>0</td>\n",
       "      <td>0</td>\n",
       "      <td>0</td>\n",
       "    </tr>\n",
       "  </tbody>\n",
       "</table>\n",
       "<p>5 rows × 103 columns</p>\n",
       "</div>"
      ],
      "text/plain": [
       "   store_sales(in millions)  store_cost(in millions)  unit_sales(in millions)  \\\n",
       "0                  0.305667                 0.267690                      0.6   \n",
       "1                  0.223561                 0.254222                      0.4   \n",
       "2                  0.141455                 0.125312                      0.2   \n",
       "3                  0.141455                 0.106072                      0.2   \n",
       "4                  0.159304                 0.132256                      0.4   \n",
       "\n",
       "   marital_status  gender  total_children  education  member_card  occupation  \\\n",
       "0               1       1             0.2       1.00     0.666667        0.75   \n",
       "1               1       0             0.0       0.50     0.000000        1.00   \n",
       "2               0       1             0.8       1.00     0.666667        0.50   \n",
       "3               1       1             0.4       0.75     1.000000        0.50   \n",
       "4               1       0             0.0       1.00     1.000000        0.75   \n",
       "\n",
       "   houseowner  ...  media_type_Daily Paper, Radio  \\\n",
       "0           1  ...                              1   \n",
       "1           1  ...                              1   \n",
       "2           0  ...                              1   \n",
       "3           1  ...                              0   \n",
       "4           0  ...                              0   \n",
       "\n",
       "   media_type_Daily Paper, Radio, TV  media_type_In-Store Coupon  \\\n",
       "0                                  0                           0   \n",
       "1                                  0                           0   \n",
       "2                                  0                           0   \n",
       "3                                  0                           1   \n",
       "4                                  0                           0   \n",
       "\n",
       "   media_type_Product Attachment  media_type_Radio  media_type_Street Handout  \\\n",
       "0                              0                 0                          0   \n",
       "1                              0                 0                          0   \n",
       "2                              0                 0                          0   \n",
       "3                              0                 0                          0   \n",
       "4                              0                 1                          0   \n",
       "\n",
       "   media_type_Sunday Paper  media_type_Sunday Paper, Radio  \\\n",
       "0                        0                               0   \n",
       "1                        0                               0   \n",
       "2                        0                               0   \n",
       "3                        0                               0   \n",
       "4                        0                               0   \n",
       "\n",
       "   media_type_Sunday Paper, Radio, TV  media_type_TV  \n",
       "0                                   0              0  \n",
       "1                                   0              0  \n",
       "2                                   0              0  \n",
       "3                                   0              0  \n",
       "4                                   0              0  \n",
       "\n",
       "[5 rows x 103 columns]"
      ]
     },
     "execution_count": 12,
     "metadata": {},
     "output_type": "execute_result"
    }
   ],
   "source": [
    "## pulling Feature Engineered Data\n",
    "data = pd.read_csv(f\"{intermediate_loc}\\\\feature_engineered_data.csv\")\n",
    "data.head(5)"
   ]
  },
  {
   "cell_type": "markdown",
   "id": "9f5a21a2-5b1f-4a7e-b0e2-879ad97ed247",
   "metadata": {},
   "source": [
    "## Random Train-Test Data Splitting Function"
   ]
  },
  {
   "cell_type": "markdown",
   "id": "7292dce9-fded-4d5e-b398-dc870c7f94fa",
   "metadata": {},
   "source": [
    "##### This function randomly splits a dataset into training and testing subsets. It is intended for use with non-temporal data, where random splitting is appropriate.\n",
    "\n",
    "#### Parameters:\n",
    "##### df (pd.DataFrame): The dataset to be split.\n",
    "\n",
    "##### test_size (float, default = 0.3): Proportion of the dataset to include in the test split. (e.g., 0.3 indicates 30% test data)\n",
    "\n",
    "##### random_state (int or None, default = None): Controls the randomness for reproducibility. If set to an integer, the split can be reproduced.\n",
    "\n",
    "#### Returns:\n",
    "##### train_df (pd.DataFrame): Training subset of the original dataframe.\n",
    "\n",
    "##### test_df (pd.DataFrame): Testing subset of the original dataframe.\n",
    "\n",
    "#### This would split the original dataset (df) into two parts: 70% training data and 30% testing data, ensuring reproducibility due to the fixed random state (42)."
   ]
  },
  {
   "cell_type": "code",
   "execution_count": 14,
   "id": "38a71099-6718-468e-90b0-da73b85be2d8",
   "metadata": {},
   "outputs": [],
   "source": [
    "## Randomly splitting the data into train-test-split\n",
    "\n",
    "# Since this data is not a temporal data, so we can split the data randomly into test and train\n",
    "\n",
    "def split_data(df, test_size = 0.3, random_state = None):\n",
    "    train_df, test_df = train_test_split(df, test_size = test_size, random_state = random_state)\n",
    "    return train_df, test_df"
   ]
  },
  {
   "cell_type": "code",
   "execution_count": 16,
   "id": "d1a8e6e8-3c65-4309-bde6-a9bd70b2be75",
   "metadata": {},
   "outputs": [],
   "source": [
    "train_df, test_df = split_data(data, test_size = 0.3, random_state = 2)"
   ]
  },
  {
   "cell_type": "code",
   "execution_count": 18,
   "id": "8fdb1e17-4524-4245-b03a-2f1a33cf1ed7",
   "metadata": {},
   "outputs": [
    {
     "data": {
      "text/html": [
       "<div>\n",
       "<style scoped>\n",
       "    .dataframe tbody tr th:only-of-type {\n",
       "        vertical-align: middle;\n",
       "    }\n",
       "\n",
       "    .dataframe tbody tr th {\n",
       "        vertical-align: top;\n",
       "    }\n",
       "\n",
       "    .dataframe thead th {\n",
       "        text-align: right;\n",
       "    }\n",
       "</style>\n",
       "<table border=\"1\" class=\"dataframe\">\n",
       "  <thead>\n",
       "    <tr style=\"text-align: right;\">\n",
       "      <th></th>\n",
       "      <th>store_sales(in millions)</th>\n",
       "      <th>store_cost(in millions)</th>\n",
       "      <th>unit_sales(in millions)</th>\n",
       "      <th>marital_status</th>\n",
       "      <th>gender</th>\n",
       "      <th>total_children</th>\n",
       "      <th>education</th>\n",
       "      <th>member_card</th>\n",
       "      <th>occupation</th>\n",
       "      <th>houseowner</th>\n",
       "      <th>...</th>\n",
       "      <th>media_type_Daily Paper, Radio</th>\n",
       "      <th>media_type_Daily Paper, Radio, TV</th>\n",
       "      <th>media_type_In-Store Coupon</th>\n",
       "      <th>media_type_Product Attachment</th>\n",
       "      <th>media_type_Radio</th>\n",
       "      <th>media_type_Street Handout</th>\n",
       "      <th>media_type_Sunday Paper</th>\n",
       "      <th>media_type_Sunday Paper, Radio</th>\n",
       "      <th>media_type_Sunday Paper, Radio, TV</th>\n",
       "      <th>media_type_TV</th>\n",
       "    </tr>\n",
       "  </thead>\n",
       "  <tbody>\n",
       "    <tr>\n",
       "      <th>56745</th>\n",
       "      <td>0.112896</td>\n",
       "      <td>0.113266</td>\n",
       "      <td>0.6</td>\n",
       "      <td>1</td>\n",
       "      <td>0</td>\n",
       "      <td>0.6</td>\n",
       "      <td>0.50</td>\n",
       "      <td>0.333333</td>\n",
       "      <td>0.25</td>\n",
       "      <td>1</td>\n",
       "      <td>...</td>\n",
       "      <td>0</td>\n",
       "      <td>0</td>\n",
       "      <td>0</td>\n",
       "      <td>0</td>\n",
       "      <td>0</td>\n",
       "      <td>0</td>\n",
       "      <td>0</td>\n",
       "      <td>0</td>\n",
       "      <td>0</td>\n",
       "      <td>1</td>\n",
       "    </tr>\n",
       "    <tr>\n",
       "      <th>21165</th>\n",
       "      <td>0.168675</td>\n",
       "      <td>0.144427</td>\n",
       "      <td>0.4</td>\n",
       "      <td>1</td>\n",
       "      <td>1</td>\n",
       "      <td>0.6</td>\n",
       "      <td>0.50</td>\n",
       "      <td>0.333333</td>\n",
       "      <td>1.00</td>\n",
       "      <td>1</td>\n",
       "      <td>...</td>\n",
       "      <td>1</td>\n",
       "      <td>0</td>\n",
       "      <td>0</td>\n",
       "      <td>0</td>\n",
       "      <td>0</td>\n",
       "      <td>0</td>\n",
       "      <td>0</td>\n",
       "      <td>0</td>\n",
       "      <td>0</td>\n",
       "      <td>0</td>\n",
       "    </tr>\n",
       "    <tr>\n",
       "      <th>40812</th>\n",
       "      <td>0.427041</td>\n",
       "      <td>0.341305</td>\n",
       "      <td>0.4</td>\n",
       "      <td>1</td>\n",
       "      <td>0</td>\n",
       "      <td>0.4</td>\n",
       "      <td>0.00</td>\n",
       "      <td>0.000000</td>\n",
       "      <td>1.00</td>\n",
       "      <td>1</td>\n",
       "      <td>...</td>\n",
       "      <td>0</td>\n",
       "      <td>0</td>\n",
       "      <td>0</td>\n",
       "      <td>0</td>\n",
       "      <td>0</td>\n",
       "      <td>0</td>\n",
       "      <td>0</td>\n",
       "      <td>0</td>\n",
       "      <td>0</td>\n",
       "      <td>0</td>\n",
       "    </tr>\n",
       "    <tr>\n",
       "      <th>7665</th>\n",
       "      <td>0.228023</td>\n",
       "      <td>0.194494</td>\n",
       "      <td>0.2</td>\n",
       "      <td>0</td>\n",
       "      <td>0</td>\n",
       "      <td>0.2</td>\n",
       "      <td>1.00</td>\n",
       "      <td>0.666667</td>\n",
       "      <td>0.75</td>\n",
       "      <td>0</td>\n",
       "      <td>...</td>\n",
       "      <td>0</td>\n",
       "      <td>0</td>\n",
       "      <td>0</td>\n",
       "      <td>0</td>\n",
       "      <td>0</td>\n",
       "      <td>0</td>\n",
       "      <td>0</td>\n",
       "      <td>0</td>\n",
       "      <td>0</td>\n",
       "      <td>0</td>\n",
       "    </tr>\n",
       "    <tr>\n",
       "      <th>30624</th>\n",
       "      <td>0.324409</td>\n",
       "      <td>0.357157</td>\n",
       "      <td>0.2</td>\n",
       "      <td>1</td>\n",
       "      <td>0</td>\n",
       "      <td>0.4</td>\n",
       "      <td>0.75</td>\n",
       "      <td>1.000000</td>\n",
       "      <td>0.75</td>\n",
       "      <td>1</td>\n",
       "      <td>...</td>\n",
       "      <td>0</td>\n",
       "      <td>0</td>\n",
       "      <td>0</td>\n",
       "      <td>0</td>\n",
       "      <td>0</td>\n",
       "      <td>0</td>\n",
       "      <td>0</td>\n",
       "      <td>0</td>\n",
       "      <td>0</td>\n",
       "      <td>0</td>\n",
       "    </tr>\n",
       "  </tbody>\n",
       "</table>\n",
       "<p>5 rows × 103 columns</p>\n",
       "</div>"
      ],
      "text/plain": [
       "       store_sales(in millions)  store_cost(in millions)  \\\n",
       "56745                  0.112896                 0.113266   \n",
       "21165                  0.168675                 0.144427   \n",
       "40812                  0.427041                 0.341305   \n",
       "7665                   0.228023                 0.194494   \n",
       "30624                  0.324409                 0.357157   \n",
       "\n",
       "       unit_sales(in millions)  marital_status  gender  total_children  \\\n",
       "56745                      0.6               1       0             0.6   \n",
       "21165                      0.4               1       1             0.6   \n",
       "40812                      0.4               1       0             0.4   \n",
       "7665                       0.2               0       0             0.2   \n",
       "30624                      0.2               1       0             0.4   \n",
       "\n",
       "       education  member_card  occupation  houseowner  ...  \\\n",
       "56745       0.50     0.333333        0.25           1  ...   \n",
       "21165       0.50     0.333333        1.00           1  ...   \n",
       "40812       0.00     0.000000        1.00           1  ...   \n",
       "7665        1.00     0.666667        0.75           0  ...   \n",
       "30624       0.75     1.000000        0.75           1  ...   \n",
       "\n",
       "       media_type_Daily Paper, Radio  media_type_Daily Paper, Radio, TV  \\\n",
       "56745                              0                                  0   \n",
       "21165                              1                                  0   \n",
       "40812                              0                                  0   \n",
       "7665                               0                                  0   \n",
       "30624                              0                                  0   \n",
       "\n",
       "       media_type_In-Store Coupon  media_type_Product Attachment  \\\n",
       "56745                           0                              0   \n",
       "21165                           0                              0   \n",
       "40812                           0                              0   \n",
       "7665                            0                              0   \n",
       "30624                           0                              0   \n",
       "\n",
       "       media_type_Radio  media_type_Street Handout  media_type_Sunday Paper  \\\n",
       "56745                 0                          0                        0   \n",
       "21165                 0                          0                        0   \n",
       "40812                 0                          0                        0   \n",
       "7665                  0                          0                        0   \n",
       "30624                 0                          0                        0   \n",
       "\n",
       "       media_type_Sunday Paper, Radio  media_type_Sunday Paper, Radio, TV  \\\n",
       "56745                               0                                   0   \n",
       "21165                               0                                   0   \n",
       "40812                               0                                   0   \n",
       "7665                                0                                   0   \n",
       "30624                               0                                   0   \n",
       "\n",
       "       media_type_TV  \n",
       "56745              1  \n",
       "21165              0  \n",
       "40812              0  \n",
       "7665               0  \n",
       "30624              0  \n",
       "\n",
       "[5 rows x 103 columns]"
      ]
     },
     "execution_count": 18,
     "metadata": {},
     "output_type": "execute_result"
    }
   ],
   "source": [
    "train_df.head()"
   ]
  },
  {
   "cell_type": "code",
   "execution_count": 20,
   "id": "a627441c-a175-4429-8150-069a52d86832",
   "metadata": {},
   "outputs": [
    {
     "data": {
      "text/plain": [
       "(42299, 103)"
      ]
     },
     "execution_count": 20,
     "metadata": {},
     "output_type": "execute_result"
    }
   ],
   "source": [
    "train_df.shape"
   ]
  },
  {
   "cell_type": "code",
   "execution_count": 22,
   "id": "8921d7e7-ad20-46f1-8fdd-73df90d8b26a",
   "metadata": {},
   "outputs": [
    {
     "data": {
      "text/html": [
       "<div>\n",
       "<style scoped>\n",
       "    .dataframe tbody tr th:only-of-type {\n",
       "        vertical-align: middle;\n",
       "    }\n",
       "\n",
       "    .dataframe tbody tr th {\n",
       "        vertical-align: top;\n",
       "    }\n",
       "\n",
       "    .dataframe thead th {\n",
       "        text-align: right;\n",
       "    }\n",
       "</style>\n",
       "<table border=\"1\" class=\"dataframe\">\n",
       "  <thead>\n",
       "    <tr style=\"text-align: right;\">\n",
       "      <th></th>\n",
       "      <th>store_sales(in millions)</th>\n",
       "      <th>store_cost(in millions)</th>\n",
       "      <th>unit_sales(in millions)</th>\n",
       "      <th>marital_status</th>\n",
       "      <th>gender</th>\n",
       "      <th>total_children</th>\n",
       "      <th>education</th>\n",
       "      <th>member_card</th>\n",
       "      <th>occupation</th>\n",
       "      <th>houseowner</th>\n",
       "      <th>...</th>\n",
       "      <th>media_type_Daily Paper, Radio</th>\n",
       "      <th>media_type_Daily Paper, Radio, TV</th>\n",
       "      <th>media_type_In-Store Coupon</th>\n",
       "      <th>media_type_Product Attachment</th>\n",
       "      <th>media_type_Radio</th>\n",
       "      <th>media_type_Street Handout</th>\n",
       "      <th>media_type_Sunday Paper</th>\n",
       "      <th>media_type_Sunday Paper, Radio</th>\n",
       "      <th>media_type_Sunday Paper, Radio, TV</th>\n",
       "      <th>media_type_TV</th>\n",
       "    </tr>\n",
       "  </thead>\n",
       "  <tbody>\n",
       "    <tr>\n",
       "      <th>32661</th>\n",
       "      <td>0.061580</td>\n",
       "      <td>0.077797</td>\n",
       "      <td>0.4</td>\n",
       "      <td>1</td>\n",
       "      <td>1</td>\n",
       "      <td>0.4</td>\n",
       "      <td>0.50</td>\n",
       "      <td>1.000000</td>\n",
       "      <td>0.25</td>\n",
       "      <td>1</td>\n",
       "      <td>...</td>\n",
       "      <td>0</td>\n",
       "      <td>0</td>\n",
       "      <td>0</td>\n",
       "      <td>1</td>\n",
       "      <td>0</td>\n",
       "      <td>0</td>\n",
       "      <td>0</td>\n",
       "      <td>0</td>\n",
       "      <td>0</td>\n",
       "      <td>0</td>\n",
       "    </tr>\n",
       "    <tr>\n",
       "      <th>60146</th>\n",
       "      <td>0.054886</td>\n",
       "      <td>0.073908</td>\n",
       "      <td>0.4</td>\n",
       "      <td>0</td>\n",
       "      <td>0</td>\n",
       "      <td>0.8</td>\n",
       "      <td>0.75</td>\n",
       "      <td>1.000000</td>\n",
       "      <td>0.75</td>\n",
       "      <td>0</td>\n",
       "      <td>...</td>\n",
       "      <td>1</td>\n",
       "      <td>0</td>\n",
       "      <td>0</td>\n",
       "      <td>0</td>\n",
       "      <td>0</td>\n",
       "      <td>0</td>\n",
       "      <td>0</td>\n",
       "      <td>0</td>\n",
       "      <td>0</td>\n",
       "      <td>0</td>\n",
       "    </tr>\n",
       "    <tr>\n",
       "      <th>13569</th>\n",
       "      <td>0.286479</td>\n",
       "      <td>0.330764</td>\n",
       "      <td>0.4</td>\n",
       "      <td>1</td>\n",
       "      <td>1</td>\n",
       "      <td>0.2</td>\n",
       "      <td>0.75</td>\n",
       "      <td>1.000000</td>\n",
       "      <td>1.00</td>\n",
       "      <td>1</td>\n",
       "      <td>...</td>\n",
       "      <td>0</td>\n",
       "      <td>0</td>\n",
       "      <td>0</td>\n",
       "      <td>0</td>\n",
       "      <td>0</td>\n",
       "      <td>0</td>\n",
       "      <td>0</td>\n",
       "      <td>0</td>\n",
       "      <td>0</td>\n",
       "      <td>0</td>\n",
       "    </tr>\n",
       "    <tr>\n",
       "      <th>19562</th>\n",
       "      <td>0.470326</td>\n",
       "      <td>0.468227</td>\n",
       "      <td>0.8</td>\n",
       "      <td>1</td>\n",
       "      <td>0</td>\n",
       "      <td>0.6</td>\n",
       "      <td>0.75</td>\n",
       "      <td>0.333333</td>\n",
       "      <td>0.50</td>\n",
       "      <td>1</td>\n",
       "      <td>...</td>\n",
       "      <td>0</td>\n",
       "      <td>0</td>\n",
       "      <td>0</td>\n",
       "      <td>1</td>\n",
       "      <td>0</td>\n",
       "      <td>0</td>\n",
       "      <td>0</td>\n",
       "      <td>0</td>\n",
       "      <td>0</td>\n",
       "      <td>0</td>\n",
       "    </tr>\n",
       "    <tr>\n",
       "      <th>59433</th>\n",
       "      <td>0.358768</td>\n",
       "      <td>0.304790</td>\n",
       "      <td>0.4</td>\n",
       "      <td>0</td>\n",
       "      <td>0</td>\n",
       "      <td>0.6</td>\n",
       "      <td>1.00</td>\n",
       "      <td>0.666667</td>\n",
       "      <td>0.50</td>\n",
       "      <td>1</td>\n",
       "      <td>...</td>\n",
       "      <td>0</td>\n",
       "      <td>0</td>\n",
       "      <td>0</td>\n",
       "      <td>0</td>\n",
       "      <td>0</td>\n",
       "      <td>0</td>\n",
       "      <td>0</td>\n",
       "      <td>0</td>\n",
       "      <td>1</td>\n",
       "      <td>0</td>\n",
       "    </tr>\n",
       "  </tbody>\n",
       "</table>\n",
       "<p>5 rows × 103 columns</p>\n",
       "</div>"
      ],
      "text/plain": [
       "       store_sales(in millions)  store_cost(in millions)  \\\n",
       "32661                  0.061580                 0.077797   \n",
       "60146                  0.054886                 0.073908   \n",
       "13569                  0.286479                 0.330764   \n",
       "19562                  0.470326                 0.468227   \n",
       "59433                  0.358768                 0.304790   \n",
       "\n",
       "       unit_sales(in millions)  marital_status  gender  total_children  \\\n",
       "32661                      0.4               1       1             0.4   \n",
       "60146                      0.4               0       0             0.8   \n",
       "13569                      0.4               1       1             0.2   \n",
       "19562                      0.8               1       0             0.6   \n",
       "59433                      0.4               0       0             0.6   \n",
       "\n",
       "       education  member_card  occupation  houseowner  ...  \\\n",
       "32661       0.50     1.000000        0.25           1  ...   \n",
       "60146       0.75     1.000000        0.75           0  ...   \n",
       "13569       0.75     1.000000        1.00           1  ...   \n",
       "19562       0.75     0.333333        0.50           1  ...   \n",
       "59433       1.00     0.666667        0.50           1  ...   \n",
       "\n",
       "       media_type_Daily Paper, Radio  media_type_Daily Paper, Radio, TV  \\\n",
       "32661                              0                                  0   \n",
       "60146                              1                                  0   \n",
       "13569                              0                                  0   \n",
       "19562                              0                                  0   \n",
       "59433                              0                                  0   \n",
       "\n",
       "       media_type_In-Store Coupon  media_type_Product Attachment  \\\n",
       "32661                           0                              1   \n",
       "60146                           0                              0   \n",
       "13569                           0                              0   \n",
       "19562                           0                              1   \n",
       "59433                           0                              0   \n",
       "\n",
       "       media_type_Radio  media_type_Street Handout  media_type_Sunday Paper  \\\n",
       "32661                 0                          0                        0   \n",
       "60146                 0                          0                        0   \n",
       "13569                 0                          0                        0   \n",
       "19562                 0                          0                        0   \n",
       "59433                 0                          0                        0   \n",
       "\n",
       "       media_type_Sunday Paper, Radio  media_type_Sunday Paper, Radio, TV  \\\n",
       "32661                               0                                   0   \n",
       "60146                               0                                   0   \n",
       "13569                               0                                   0   \n",
       "19562                               0                                   0   \n",
       "59433                               0                                   1   \n",
       "\n",
       "       media_type_TV  \n",
       "32661              0  \n",
       "60146              0  \n",
       "13569              0  \n",
       "19562              0  \n",
       "59433              0  \n",
       "\n",
       "[5 rows x 103 columns]"
      ]
     },
     "execution_count": 22,
     "metadata": {},
     "output_type": "execute_result"
    }
   ],
   "source": [
    "test_df.head()"
   ]
  },
  {
   "cell_type": "code",
   "execution_count": 24,
   "id": "1d3a8938-b956-4db7-99e4-03695f62630c",
   "metadata": {},
   "outputs": [
    {
     "data": {
      "text/plain": [
       "(18129, 103)"
      ]
     },
     "execution_count": 24,
     "metadata": {},
     "output_type": "execute_result"
    }
   ],
   "source": [
    "test_df.shape"
   ]
  },
  {
   "cell_type": "markdown",
   "id": "92f7d383-2373-4c18-87e4-56c751f1005f",
   "metadata": {},
   "source": [
    "## Decision Tree Model Training Function"
   ]
  },
  {
   "cell_type": "markdown",
   "id": "ff955b59-c0b3-4516-8057-90ed6c3f4205",
   "metadata": {},
   "source": [
    "##### This function trains a Decision Tree regression model using the provided training dataset and response variable. After training, it provides a brief summary of the trained model, including its depth and the number of leaves.\n",
    "\n",
    "#### Parameters:\n",
    "##### train_df (pd.DataFrame): Training dataset containing predictor variables and the response variable.\n",
    "\n",
    "##### response_variable (str): Name of the target variable column in the dataset.\n",
    "\n",
    "##### max_depth (int or None, default = None): Maximum depth allowed for the tree. If set to None, the tree expands until leaves are pure or contain minimal data points.\n",
    "\n",
    "##### random_state (int or None, default = None): Controls the randomness of the tree growth process for reproducibility.\n",
    "\n",
    "#### Returns:\n",
    "##### model (DecisionTreeRegressor): The trained decision tree regression model.\n",
    "\n",
    "##### summary (str): A string summarizing the depth of the trained tree and the total number of leaves."
   ]
  },
  {
   "cell_type": "code",
   "execution_count": 26,
   "id": "92b2beef-65df-4296-a8b8-929d9e1a6344",
   "metadata": {},
   "outputs": [],
   "source": [
    "## Training a decision tree model on the training data and returns a summary\n",
    "\n",
    "def train_decision_tree(train_df, response_variable, max_depth = None, random_state = None):\n",
    "    \n",
    "    x_train = train_df.drop(columns = [response_variable])\n",
    "    y_train = train_df[response_variable]\n",
    "\n",
    "    model = DecisionTreeRegressor(max_depth = max_depth, random_state = random_state)\n",
    "    model.fit(x_train, y_train)\n",
    "\n",
    "    summary = f\"Depth: {model.get_depth()}, Number of leaves: {model.get_n_leaves()}\"\n",
    "    return model, summary"
   ]
  },
  {
   "cell_type": "code",
   "execution_count": 28,
   "id": "b7e75ae6-c8c1-4d5c-ab42-d6f94d0264b2",
   "metadata": {},
   "outputs": [],
   "source": [
    "model, summary = train_decision_tree(train_df, \"cost\", max_depth = 10, random_state = 4)"
   ]
  },
  {
   "cell_type": "code",
   "execution_count": 30,
   "id": "2faf8be6-750e-4f98-9401-f71a51064198",
   "metadata": {},
   "outputs": [
    {
     "data": {
      "text/html": [
       "<style>#sk-container-id-2 {\n",
       "  /* Definition of color scheme common for light and dark mode */\n",
       "  --sklearn-color-text: black;\n",
       "  --sklearn-color-line: gray;\n",
       "  /* Definition of color scheme for unfitted estimators */\n",
       "  --sklearn-color-unfitted-level-0: #fff5e6;\n",
       "  --sklearn-color-unfitted-level-1: #f6e4d2;\n",
       "  --sklearn-color-unfitted-level-2: #ffe0b3;\n",
       "  --sklearn-color-unfitted-level-3: chocolate;\n",
       "  /* Definition of color scheme for fitted estimators */\n",
       "  --sklearn-color-fitted-level-0: #f0f8ff;\n",
       "  --sklearn-color-fitted-level-1: #d4ebff;\n",
       "  --sklearn-color-fitted-level-2: #b3dbfd;\n",
       "  --sklearn-color-fitted-level-3: cornflowerblue;\n",
       "\n",
       "  /* Specific color for light theme */\n",
       "  --sklearn-color-text-on-default-background: var(--sg-text-color, var(--theme-code-foreground, var(--jp-content-font-color1, black)));\n",
       "  --sklearn-color-background: var(--sg-background-color, var(--theme-background, var(--jp-layout-color0, white)));\n",
       "  --sklearn-color-border-box: var(--sg-text-color, var(--theme-code-foreground, var(--jp-content-font-color1, black)));\n",
       "  --sklearn-color-icon: #696969;\n",
       "\n",
       "  @media (prefers-color-scheme: dark) {\n",
       "    /* Redefinition of color scheme for dark theme */\n",
       "    --sklearn-color-text-on-default-background: var(--sg-text-color, var(--theme-code-foreground, var(--jp-content-font-color1, white)));\n",
       "    --sklearn-color-background: var(--sg-background-color, var(--theme-background, var(--jp-layout-color0, #111)));\n",
       "    --sklearn-color-border-box: var(--sg-text-color, var(--theme-code-foreground, var(--jp-content-font-color1, white)));\n",
       "    --sklearn-color-icon: #878787;\n",
       "  }\n",
       "}\n",
       "\n",
       "#sk-container-id-2 {\n",
       "  color: var(--sklearn-color-text);\n",
       "}\n",
       "\n",
       "#sk-container-id-2 pre {\n",
       "  padding: 0;\n",
       "}\n",
       "\n",
       "#sk-container-id-2 input.sk-hidden--visually {\n",
       "  border: 0;\n",
       "  clip: rect(1px 1px 1px 1px);\n",
       "  clip: rect(1px, 1px, 1px, 1px);\n",
       "  height: 1px;\n",
       "  margin: -1px;\n",
       "  overflow: hidden;\n",
       "  padding: 0;\n",
       "  position: absolute;\n",
       "  width: 1px;\n",
       "}\n",
       "\n",
       "#sk-container-id-2 div.sk-dashed-wrapped {\n",
       "  border: 1px dashed var(--sklearn-color-line);\n",
       "  margin: 0 0.4em 0.5em 0.4em;\n",
       "  box-sizing: border-box;\n",
       "  padding-bottom: 0.4em;\n",
       "  background-color: var(--sklearn-color-background);\n",
       "}\n",
       "\n",
       "#sk-container-id-2 div.sk-container {\n",
       "  /* jupyter's `normalize.less` sets `[hidden] { display: none; }`\n",
       "     but bootstrap.min.css set `[hidden] { display: none !important; }`\n",
       "     so we also need the `!important` here to be able to override the\n",
       "     default hidden behavior on the sphinx rendered scikit-learn.org.\n",
       "     See: https://github.com/scikit-learn/scikit-learn/issues/21755 */\n",
       "  display: inline-block !important;\n",
       "  position: relative;\n",
       "}\n",
       "\n",
       "#sk-container-id-2 div.sk-text-repr-fallback {\n",
       "  display: none;\n",
       "}\n",
       "\n",
       "div.sk-parallel-item,\n",
       "div.sk-serial,\n",
       "div.sk-item {\n",
       "  /* draw centered vertical line to link estimators */\n",
       "  background-image: linear-gradient(var(--sklearn-color-text-on-default-background), var(--sklearn-color-text-on-default-background));\n",
       "  background-size: 2px 100%;\n",
       "  background-repeat: no-repeat;\n",
       "  background-position: center center;\n",
       "}\n",
       "\n",
       "/* Parallel-specific style estimator block */\n",
       "\n",
       "#sk-container-id-2 div.sk-parallel-item::after {\n",
       "  content: \"\";\n",
       "  width: 100%;\n",
       "  border-bottom: 2px solid var(--sklearn-color-text-on-default-background);\n",
       "  flex-grow: 1;\n",
       "}\n",
       "\n",
       "#sk-container-id-2 div.sk-parallel {\n",
       "  display: flex;\n",
       "  align-items: stretch;\n",
       "  justify-content: center;\n",
       "  background-color: var(--sklearn-color-background);\n",
       "  position: relative;\n",
       "}\n",
       "\n",
       "#sk-container-id-2 div.sk-parallel-item {\n",
       "  display: flex;\n",
       "  flex-direction: column;\n",
       "}\n",
       "\n",
       "#sk-container-id-2 div.sk-parallel-item:first-child::after {\n",
       "  align-self: flex-end;\n",
       "  width: 50%;\n",
       "}\n",
       "\n",
       "#sk-container-id-2 div.sk-parallel-item:last-child::after {\n",
       "  align-self: flex-start;\n",
       "  width: 50%;\n",
       "}\n",
       "\n",
       "#sk-container-id-2 div.sk-parallel-item:only-child::after {\n",
       "  width: 0;\n",
       "}\n",
       "\n",
       "/* Serial-specific style estimator block */\n",
       "\n",
       "#sk-container-id-2 div.sk-serial {\n",
       "  display: flex;\n",
       "  flex-direction: column;\n",
       "  align-items: center;\n",
       "  background-color: var(--sklearn-color-background);\n",
       "  padding-right: 1em;\n",
       "  padding-left: 1em;\n",
       "}\n",
       "\n",
       "\n",
       "/* Toggleable style: style used for estimator/Pipeline/ColumnTransformer box that is\n",
       "clickable and can be expanded/collapsed.\n",
       "- Pipeline and ColumnTransformer use this feature and define the default style\n",
       "- Estimators will overwrite some part of the style using the `sk-estimator` class\n",
       "*/\n",
       "\n",
       "/* Pipeline and ColumnTransformer style (default) */\n",
       "\n",
       "#sk-container-id-2 div.sk-toggleable {\n",
       "  /* Default theme specific background. It is overwritten whether we have a\n",
       "  specific estimator or a Pipeline/ColumnTransformer */\n",
       "  background-color: var(--sklearn-color-background);\n",
       "}\n",
       "\n",
       "/* Toggleable label */\n",
       "#sk-container-id-2 label.sk-toggleable__label {\n",
       "  cursor: pointer;\n",
       "  display: block;\n",
       "  width: 100%;\n",
       "  margin-bottom: 0;\n",
       "  padding: 0.5em;\n",
       "  box-sizing: border-box;\n",
       "  text-align: center;\n",
       "}\n",
       "\n",
       "#sk-container-id-2 label.sk-toggleable__label-arrow:before {\n",
       "  /* Arrow on the left of the label */\n",
       "  content: \"▸\";\n",
       "  float: left;\n",
       "  margin-right: 0.25em;\n",
       "  color: var(--sklearn-color-icon);\n",
       "}\n",
       "\n",
       "#sk-container-id-2 label.sk-toggleable__label-arrow:hover:before {\n",
       "  color: var(--sklearn-color-text);\n",
       "}\n",
       "\n",
       "/* Toggleable content - dropdown */\n",
       "\n",
       "#sk-container-id-2 div.sk-toggleable__content {\n",
       "  max-height: 0;\n",
       "  max-width: 0;\n",
       "  overflow: hidden;\n",
       "  text-align: left;\n",
       "  /* unfitted */\n",
       "  background-color: var(--sklearn-color-unfitted-level-0);\n",
       "}\n",
       "\n",
       "#sk-container-id-2 div.sk-toggleable__content.fitted {\n",
       "  /* fitted */\n",
       "  background-color: var(--sklearn-color-fitted-level-0);\n",
       "}\n",
       "\n",
       "#sk-container-id-2 div.sk-toggleable__content pre {\n",
       "  margin: 0.2em;\n",
       "  border-radius: 0.25em;\n",
       "  color: var(--sklearn-color-text);\n",
       "  /* unfitted */\n",
       "  background-color: var(--sklearn-color-unfitted-level-0);\n",
       "}\n",
       "\n",
       "#sk-container-id-2 div.sk-toggleable__content.fitted pre {\n",
       "  /* unfitted */\n",
       "  background-color: var(--sklearn-color-fitted-level-0);\n",
       "}\n",
       "\n",
       "#sk-container-id-2 input.sk-toggleable__control:checked~div.sk-toggleable__content {\n",
       "  /* Expand drop-down */\n",
       "  max-height: 200px;\n",
       "  max-width: 100%;\n",
       "  overflow: auto;\n",
       "}\n",
       "\n",
       "#sk-container-id-2 input.sk-toggleable__control:checked~label.sk-toggleable__label-arrow:before {\n",
       "  content: \"▾\";\n",
       "}\n",
       "\n",
       "/* Pipeline/ColumnTransformer-specific style */\n",
       "\n",
       "#sk-container-id-2 div.sk-label input.sk-toggleable__control:checked~label.sk-toggleable__label {\n",
       "  color: var(--sklearn-color-text);\n",
       "  background-color: var(--sklearn-color-unfitted-level-2);\n",
       "}\n",
       "\n",
       "#sk-container-id-2 div.sk-label.fitted input.sk-toggleable__control:checked~label.sk-toggleable__label {\n",
       "  background-color: var(--sklearn-color-fitted-level-2);\n",
       "}\n",
       "\n",
       "/* Estimator-specific style */\n",
       "\n",
       "/* Colorize estimator box */\n",
       "#sk-container-id-2 div.sk-estimator input.sk-toggleable__control:checked~label.sk-toggleable__label {\n",
       "  /* unfitted */\n",
       "  background-color: var(--sklearn-color-unfitted-level-2);\n",
       "}\n",
       "\n",
       "#sk-container-id-2 div.sk-estimator.fitted input.sk-toggleable__control:checked~label.sk-toggleable__label {\n",
       "  /* fitted */\n",
       "  background-color: var(--sklearn-color-fitted-level-2);\n",
       "}\n",
       "\n",
       "#sk-container-id-2 div.sk-label label.sk-toggleable__label,\n",
       "#sk-container-id-2 div.sk-label label {\n",
       "  /* The background is the default theme color */\n",
       "  color: var(--sklearn-color-text-on-default-background);\n",
       "}\n",
       "\n",
       "/* On hover, darken the color of the background */\n",
       "#sk-container-id-2 div.sk-label:hover label.sk-toggleable__label {\n",
       "  color: var(--sklearn-color-text);\n",
       "  background-color: var(--sklearn-color-unfitted-level-2);\n",
       "}\n",
       "\n",
       "/* Label box, darken color on hover, fitted */\n",
       "#sk-container-id-2 div.sk-label.fitted:hover label.sk-toggleable__label.fitted {\n",
       "  color: var(--sklearn-color-text);\n",
       "  background-color: var(--sklearn-color-fitted-level-2);\n",
       "}\n",
       "\n",
       "/* Estimator label */\n",
       "\n",
       "#sk-container-id-2 div.sk-label label {\n",
       "  font-family: monospace;\n",
       "  font-weight: bold;\n",
       "  display: inline-block;\n",
       "  line-height: 1.2em;\n",
       "}\n",
       "\n",
       "#sk-container-id-2 div.sk-label-container {\n",
       "  text-align: center;\n",
       "}\n",
       "\n",
       "/* Estimator-specific */\n",
       "#sk-container-id-2 div.sk-estimator {\n",
       "  font-family: monospace;\n",
       "  border: 1px dotted var(--sklearn-color-border-box);\n",
       "  border-radius: 0.25em;\n",
       "  box-sizing: border-box;\n",
       "  margin-bottom: 0.5em;\n",
       "  /* unfitted */\n",
       "  background-color: var(--sklearn-color-unfitted-level-0);\n",
       "}\n",
       "\n",
       "#sk-container-id-2 div.sk-estimator.fitted {\n",
       "  /* fitted */\n",
       "  background-color: var(--sklearn-color-fitted-level-0);\n",
       "}\n",
       "\n",
       "/* on hover */\n",
       "#sk-container-id-2 div.sk-estimator:hover {\n",
       "  /* unfitted */\n",
       "  background-color: var(--sklearn-color-unfitted-level-2);\n",
       "}\n",
       "\n",
       "#sk-container-id-2 div.sk-estimator.fitted:hover {\n",
       "  /* fitted */\n",
       "  background-color: var(--sklearn-color-fitted-level-2);\n",
       "}\n",
       "\n",
       "/* Specification for estimator info (e.g. \"i\" and \"?\") */\n",
       "\n",
       "/* Common style for \"i\" and \"?\" */\n",
       "\n",
       ".sk-estimator-doc-link,\n",
       "a:link.sk-estimator-doc-link,\n",
       "a:visited.sk-estimator-doc-link {\n",
       "  float: right;\n",
       "  font-size: smaller;\n",
       "  line-height: 1em;\n",
       "  font-family: monospace;\n",
       "  background-color: var(--sklearn-color-background);\n",
       "  border-radius: 1em;\n",
       "  height: 1em;\n",
       "  width: 1em;\n",
       "  text-decoration: none !important;\n",
       "  margin-left: 1ex;\n",
       "  /* unfitted */\n",
       "  border: var(--sklearn-color-unfitted-level-1) 1pt solid;\n",
       "  color: var(--sklearn-color-unfitted-level-1);\n",
       "}\n",
       "\n",
       ".sk-estimator-doc-link.fitted,\n",
       "a:link.sk-estimator-doc-link.fitted,\n",
       "a:visited.sk-estimator-doc-link.fitted {\n",
       "  /* fitted */\n",
       "  border: var(--sklearn-color-fitted-level-1) 1pt solid;\n",
       "  color: var(--sklearn-color-fitted-level-1);\n",
       "}\n",
       "\n",
       "/* On hover */\n",
       "div.sk-estimator:hover .sk-estimator-doc-link:hover,\n",
       ".sk-estimator-doc-link:hover,\n",
       "div.sk-label-container:hover .sk-estimator-doc-link:hover,\n",
       ".sk-estimator-doc-link:hover {\n",
       "  /* unfitted */\n",
       "  background-color: var(--sklearn-color-unfitted-level-3);\n",
       "  color: var(--sklearn-color-background);\n",
       "  text-decoration: none;\n",
       "}\n",
       "\n",
       "div.sk-estimator.fitted:hover .sk-estimator-doc-link.fitted:hover,\n",
       ".sk-estimator-doc-link.fitted:hover,\n",
       "div.sk-label-container:hover .sk-estimator-doc-link.fitted:hover,\n",
       ".sk-estimator-doc-link.fitted:hover {\n",
       "  /* fitted */\n",
       "  background-color: var(--sklearn-color-fitted-level-3);\n",
       "  color: var(--sklearn-color-background);\n",
       "  text-decoration: none;\n",
       "}\n",
       "\n",
       "/* Span, style for the box shown on hovering the info icon */\n",
       ".sk-estimator-doc-link span {\n",
       "  display: none;\n",
       "  z-index: 9999;\n",
       "  position: relative;\n",
       "  font-weight: normal;\n",
       "  right: .2ex;\n",
       "  padding: .5ex;\n",
       "  margin: .5ex;\n",
       "  width: min-content;\n",
       "  min-width: 20ex;\n",
       "  max-width: 50ex;\n",
       "  color: var(--sklearn-color-text);\n",
       "  box-shadow: 2pt 2pt 4pt #999;\n",
       "  /* unfitted */\n",
       "  background: var(--sklearn-color-unfitted-level-0);\n",
       "  border: .5pt solid var(--sklearn-color-unfitted-level-3);\n",
       "}\n",
       "\n",
       ".sk-estimator-doc-link.fitted span {\n",
       "  /* fitted */\n",
       "  background: var(--sklearn-color-fitted-level-0);\n",
       "  border: var(--sklearn-color-fitted-level-3);\n",
       "}\n",
       "\n",
       ".sk-estimator-doc-link:hover span {\n",
       "  display: block;\n",
       "}\n",
       "\n",
       "/* \"?\"-specific style due to the `<a>` HTML tag */\n",
       "\n",
       "#sk-container-id-2 a.estimator_doc_link {\n",
       "  float: right;\n",
       "  font-size: 1rem;\n",
       "  line-height: 1em;\n",
       "  font-family: monospace;\n",
       "  background-color: var(--sklearn-color-background);\n",
       "  border-radius: 1rem;\n",
       "  height: 1rem;\n",
       "  width: 1rem;\n",
       "  text-decoration: none;\n",
       "  /* unfitted */\n",
       "  color: var(--sklearn-color-unfitted-level-1);\n",
       "  border: var(--sklearn-color-unfitted-level-1) 1pt solid;\n",
       "}\n",
       "\n",
       "#sk-container-id-2 a.estimator_doc_link.fitted {\n",
       "  /* fitted */\n",
       "  border: var(--sklearn-color-fitted-level-1) 1pt solid;\n",
       "  color: var(--sklearn-color-fitted-level-1);\n",
       "}\n",
       "\n",
       "/* On hover */\n",
       "#sk-container-id-2 a.estimator_doc_link:hover {\n",
       "  /* unfitted */\n",
       "  background-color: var(--sklearn-color-unfitted-level-3);\n",
       "  color: var(--sklearn-color-background);\n",
       "  text-decoration: none;\n",
       "}\n",
       "\n",
       "#sk-container-id-2 a.estimator_doc_link.fitted:hover {\n",
       "  /* fitted */\n",
       "  background-color: var(--sklearn-color-fitted-level-3);\n",
       "}\n",
       "</style><div id=\"sk-container-id-2\" class=\"sk-top-container\"><div class=\"sk-text-repr-fallback\"><pre>DecisionTreeRegressor(max_depth=9, random_state=4)</pre><b>In a Jupyter environment, please rerun this cell to show the HTML representation or trust the notebook. <br />On GitHub, the HTML representation is unable to render, please try loading this page with nbviewer.org.</b></div><div class=\"sk-container\" hidden><div class=\"sk-item\"><div class=\"sk-estimator fitted sk-toggleable\"><input class=\"sk-toggleable__control sk-hidden--visually\" id=\"sk-estimator-id-2\" type=\"checkbox\" checked><label for=\"sk-estimator-id-2\" class=\"sk-toggleable__label fitted sk-toggleable__label-arrow fitted\">&nbsp;&nbsp;DecisionTreeRegressor<a class=\"sk-estimator-doc-link fitted\" rel=\"noreferrer\" target=\"_blank\" href=\"https://scikit-learn.org/1.4/modules/generated/sklearn.tree.DecisionTreeRegressor.html\">?<span>Documentation for DecisionTreeRegressor</span></a><span class=\"sk-estimator-doc-link fitted\">i<span>Fitted</span></span></label><div class=\"sk-toggleable__content fitted\"><pre>DecisionTreeRegressor(max_depth=9, random_state=4)</pre></div> </div></div></div></div>"
      ],
      "text/plain": [
       "DecisionTreeRegressor(max_depth=9, random_state=4)"
      ]
     },
     "execution_count": 30,
     "metadata": {},
     "output_type": "execute_result"
    }
   ],
   "source": [
    "model"
   ]
  },
  {
   "cell_type": "code",
   "execution_count": 32,
   "id": "e2e3476c-3ed3-4f5b-a49b-f2938ebca688",
   "metadata": {},
   "outputs": [
    {
     "data": {
      "text/plain": [
       "'Depth: 9, Number of leaves: 105'"
      ]
     },
     "execution_count": 32,
     "metadata": {},
     "output_type": "execute_result"
    }
   ],
   "source": [
    "summary"
   ]
  },
  {
   "cell_type": "code",
   "execution_count": 34,
   "id": "6719a9e5-af67-4601-bf90-c75a751c8a01",
   "metadata": {},
   "outputs": [],
   "source": [
    "## Imp Understanding: In Regression we use RMSE, R2, F-statistics mostly"
   ]
  },
  {
   "cell_type": "markdown",
   "id": "7bc631d6-6d26-4654-94f9-206115b60c8d",
   "metadata": {},
   "source": [
    "## Decision Tree Model Training and Testing Function"
   ]
  },
  {
   "cell_type": "markdown",
   "id": "1f20f042-047d-47a7-a3fa-fe04a7ae6e18",
   "metadata": {},
   "source": [
    "##### This function trains a Decision Tree regression model on provided training data and evaluates its predictive performance on test data. The evaluation metrics provided are the Root Mean Squared Error (RMSE) and R-squared (R²).\n",
    "\n",
    "#### Parameters:\n",
    "##### train_df (pd.DataFrame): Training dataset containing predictor variables and the response variable.\n",
    "\n",
    "##### test_df (pd.DataFrame): Test dataset used to evaluate the model, must have the same structure as the training dataset.\n",
    "\n",
    "##### response_variable (str): Name of the target variable column in both datasets.\n",
    "\n",
    "##### max_depth (int or None, default=None): Maximum allowed depth of the decision tree. If None, the tree will grow until all leaves are pure or contain minimal data points.\n",
    "\n",
    "##### random_state (int or None, default=None): Controls randomness during the training process to ensure reproducibility.\n",
    "\n",
    "#### Returns:\n",
    "##### model (DecisionTreeRegressor): The trained decision tree regression model.\n",
    "\n",
    "##### summary (str): A brief summary showing the depth and total number of leaves of the trained tree.\n",
    "\n",
    "##### rmse (float): Root Mean Squared Error indicating the average prediction error on the test set.\n",
    "\n",
    "##### r_squared (float): R² value indicating the proportion of variance explained by the model.\n",
    "\n",
    "\n",
    "#### This function simplifies the entire process of training, predicting, and evaluating a decision tree model."
   ]
  },
  {
   "cell_type": "code",
   "execution_count": 36,
   "id": "cd466ba7-df8e-40ab-8579-9f3884cb8854",
   "metadata": {},
   "outputs": [],
   "source": [
    "## Test Data:\n",
    "\n",
    "def call_decision_tree(train_df, test_df, response_variable, max_depth = None, random_state = None):\n",
    "    \n",
    "    x_train = train_df.drop(columns = [response_variable])\n",
    "    y_train = train_df[response_variable]\n",
    "    x_test = test_df.drop(columns = [response_variable])\n",
    "    y_test = test_df[response_variable]\n",
    "\n",
    "    model = DecisionTreeRegressor(max_depth = max_depth, random_state = random_state)\n",
    "    model.fit(x_train, y_train)\n",
    "\n",
    "    y_pred = model.predict(x_test)\n",
    "    rmse = np.sqrt(mean_squared_error(y_test, y_pred))\n",
    "    r_squared = r2_score(y_test, y_pred)\n",
    "\n",
    "    summary = f\"Depth: {model.get_depth()}, Number of leaves: {model.get_n_leaves()}\"\n",
    "    return model, summary, rmse, r_squared"
   ]
  },
  {
   "cell_type": "markdown",
   "id": "db8fd0c3-1554-4c9a-ad82-747f722c7ea4",
   "metadata": {},
   "source": [
    "## Decision Tree Model Training and Evaluation (with varying max depth)"
   ]
  },
  {
   "cell_type": "markdown",
   "id": "e3311829-2793-4626-91ba-7c8e44a81a69",
   "metadata": {},
   "source": [
    "##### This code trains and evaluates a Decision Tree regression model for predicting the variable \"cost\". It specifically demonstrates the case where the tree is trained with a maximum depth parameter within the range of 8 to 22. Adjusting the max_depth parameter allows evaluation of how tree complexity affects model performance.\n",
    "\n",
    "#### Parameters Used:\n",
    "##### train_df (pd.DataFrame): Training dataset.\n",
    "\n",
    "##### test_df (pd.DataFrame): Testing dataset.\n",
    "\n",
    "##### response_variable (str): \"cost\" — the column predicted by the model.\n",
    "\n",
    "##### max_depth (int): Set within the range of 8 to 22, explicitly chosen here as 10 to control tree complexity.\n",
    "\n",
    "##### random_state (int): 4 — ensures reproducibility.\n",
    "\n",
    "#### Returns:\n",
    "##### model: Trained Decision Tree regression model (DecisionTreeRegressor).\n",
    "\n",
    "##### summary: Summary string showing tree depth and number of leaves.\n",
    "\n",
    "##### rmse: Root Mean Squared Error, indicating average prediction error.\n",
    "\n",
    "##### r_squared: R² value, reflecting the proportion of variance explained."
   ]
  },
  {
   "cell_type": "code",
   "execution_count": 38,
   "id": "40e86972-02bd-41b2-9201-91f58cf50ac2",
   "metadata": {},
   "outputs": [],
   "source": [
    "model, summary, rmse, r_squared = call_decision_tree(train_df, test_df, \"cost\", max_depth = 10, random_state = 4)"
   ]
  },
  {
   "cell_type": "code",
   "execution_count": 40,
   "id": "94179f4e-b854-494f-9d3f-2a8536b36f49",
   "metadata": {},
   "outputs": [
    {
     "data": {
      "text/plain": [
       "(DecisionTreeRegressor(max_depth=10, random_state=4),\n",
       " 'Depth: 10, Number of leaves: 133',\n",
       " 0.2217799366005638,\n",
       " 0.4636277635437286)"
      ]
     },
     "execution_count": 40,
     "metadata": {},
     "output_type": "execute_result"
    }
   ],
   "source": [
    "model, summary, rmse, r_squared"
   ]
  },
  {
   "cell_type": "code",
   "execution_count": 42,
   "id": "0735d28e-aefd-48e2-b4ca-42f3e3f673fd",
   "metadata": {},
   "outputs": [],
   "source": [
    "model, summary, rmse, r_squared = call_decision_tree(train_df, test_df, \"cost\", max_depth = 9, random_state = 4)"
   ]
  },
  {
   "cell_type": "code",
   "execution_count": 44,
   "id": "bccf4fd2-915a-4920-bd10-7b0b17937225",
   "metadata": {},
   "outputs": [
    {
     "data": {
      "text/plain": [
       "(DecisionTreeRegressor(max_depth=9, random_state=4),\n",
       " 'Depth: 9, Number of leaves: 105',\n",
       " 0.2336497924472276,\n",
       " 0.40467711310831744)"
      ]
     },
     "execution_count": 44,
     "metadata": {},
     "output_type": "execute_result"
    }
   ],
   "source": [
    "model, summary, rmse, r_squared"
   ]
  },
  {
   "cell_type": "code",
   "execution_count": 46,
   "id": "57fb87f0-2cac-4168-9c7e-a08bef9d3f0f",
   "metadata": {},
   "outputs": [],
   "source": [
    "model, summary, rmse, r_squared = call_decision_tree(train_df, test_df, \"cost\", max_depth = 8, random_state = 4)"
   ]
  },
  {
   "cell_type": "code",
   "execution_count": 48,
   "id": "04ff753e-d410-410e-ba96-77ab3c273312",
   "metadata": {},
   "outputs": [
    {
     "data": {
      "text/plain": [
       "(DecisionTreeRegressor(max_depth=8, random_state=4),\n",
       " 'Depth: 8, Number of leaves: 79',\n",
       " 0.2458743731192094,\n",
       " 0.34075277364598755)"
      ]
     },
     "execution_count": 48,
     "metadata": {},
     "output_type": "execute_result"
    }
   ],
   "source": [
    "model, summary, rmse, r_squared"
   ]
  },
  {
   "cell_type": "code",
   "execution_count": 50,
   "id": "abea4bf1-77ca-4f8e-9c6c-8c4e2a488f73",
   "metadata": {},
   "outputs": [],
   "source": [
    "model, summary, rmse, r_squared = call_decision_tree(train_df, test_df, \"cost\", max_depth = 11, random_state = 4)"
   ]
  },
  {
   "cell_type": "code",
   "execution_count": 52,
   "id": "36d2943d-29cd-46a9-ae48-055a948a981e",
   "metadata": {},
   "outputs": [
    {
     "data": {
      "text/plain": [
       "(DecisionTreeRegressor(max_depth=11, random_state=4),\n",
       " 'Depth: 11, Number of leaves: 166',\n",
       " 0.21035289401276996,\n",
       " 0.5174761740484197)"
      ]
     },
     "execution_count": 52,
     "metadata": {},
     "output_type": "execute_result"
    }
   ],
   "source": [
    "model, summary, rmse, r_squared"
   ]
  },
  {
   "cell_type": "code",
   "execution_count": 54,
   "id": "0f8b7e12-f5da-4ba4-982d-b0f0f595c18c",
   "metadata": {},
   "outputs": [],
   "source": [
    "model, summary, rmse, r_squared = call_decision_tree(train_df, test_df, \"cost\", max_depth = 12, random_state = 4)"
   ]
  },
  {
   "cell_type": "code",
   "execution_count": 56,
   "id": "cbdf08cc-aef1-48ae-9379-b320d0286780",
   "metadata": {},
   "outputs": [
    {
     "data": {
      "text/plain": [
       "(DecisionTreeRegressor(max_depth=12, random_state=4),\n",
       " 'Depth: 12, Number of leaves: 188',\n",
       " 0.20407674758719713,\n",
       " 0.5458400552391509)"
      ]
     },
     "execution_count": 56,
     "metadata": {},
     "output_type": "execute_result"
    }
   ],
   "source": [
    "model, summary, rmse, r_squared"
   ]
  },
  {
   "cell_type": "code",
   "execution_count": 58,
   "id": "8145480a-1aa0-488f-b318-da03f985e750",
   "metadata": {},
   "outputs": [],
   "source": [
    "model, summary, rmse, r_squared = call_decision_tree(train_df, test_df, \"cost\", max_depth = 13, random_state = 4)"
   ]
  },
  {
   "cell_type": "code",
   "execution_count": 60,
   "id": "cd7bff76-deb5-4450-b424-2f0de18b4207",
   "metadata": {},
   "outputs": [
    {
     "data": {
      "text/plain": [
       "(DecisionTreeRegressor(max_depth=13, random_state=4),\n",
       " 'Depth: 13, Number of leaves: 208',\n",
       " 0.19601003442327358,\n",
       " 0.5810343768220803)"
      ]
     },
     "execution_count": 60,
     "metadata": {},
     "output_type": "execute_result"
    }
   ],
   "source": [
    "model, summary, rmse, r_squared"
   ]
  },
  {
   "cell_type": "code",
   "execution_count": 62,
   "id": "40cfca17-942c-474b-9350-c374bdea7823",
   "metadata": {},
   "outputs": [],
   "source": [
    "model, summary, rmse, r_squared = call_decision_tree(train_df, test_df, \"cost\", max_depth = 14, random_state = 4)"
   ]
  },
  {
   "cell_type": "code",
   "execution_count": 64,
   "id": "835f5186-2954-473d-bf51-aebf91141ae6",
   "metadata": {},
   "outputs": [
    {
     "data": {
      "text/plain": [
       "(DecisionTreeRegressor(max_depth=14, random_state=4),\n",
       " 'Depth: 14, Number of leaves: 238',\n",
       " 0.1874177582272739,\n",
       " 0.6169607683200602)"
      ]
     },
     "execution_count": 64,
     "metadata": {},
     "output_type": "execute_result"
    }
   ],
   "source": [
    "model, summary, rmse, r_squared"
   ]
  },
  {
   "cell_type": "code",
   "execution_count": 66,
   "id": "5532f408-d528-47a1-a260-2280f641ee34",
   "metadata": {},
   "outputs": [],
   "source": [
    "model, summary, rmse, r_squared = call_decision_tree(train_df, test_df, \"cost\", max_depth = 15, random_state = 4)"
   ]
  },
  {
   "cell_type": "code",
   "execution_count": 68,
   "id": "e247fe43-fbaa-44fb-88be-698ee5c9e506",
   "metadata": {},
   "outputs": [
    {
     "data": {
      "text/plain": [
       "(DecisionTreeRegressor(max_depth=15, random_state=4),\n",
       " 'Depth: 15, Number of leaves: 294',\n",
       " 0.1812713920983707,\n",
       " 0.6416723511828086)"
      ]
     },
     "execution_count": 68,
     "metadata": {},
     "output_type": "execute_result"
    }
   ],
   "source": [
    "model, summary, rmse, r_squared"
   ]
  },
  {
   "cell_type": "code",
   "execution_count": 70,
   "id": "869ff297-6a6b-489f-807e-d0bcd6120a6f",
   "metadata": {},
   "outputs": [],
   "source": [
    "model, summary, rmse, r_squared = call_decision_tree(train_df, test_df, \"cost\", max_depth = 16, random_state = 4)"
   ]
  },
  {
   "cell_type": "code",
   "execution_count": 72,
   "id": "4715bc7a-1858-4121-90ce-e934fda151f0",
   "metadata": {},
   "outputs": [
    {
     "data": {
      "text/plain": [
       "(DecisionTreeRegressor(max_depth=16, random_state=4),\n",
       " 'Depth: 16, Number of leaves: 328',\n",
       " 0.17446275130127603,\n",
       " 0.668084744355455)"
      ]
     },
     "execution_count": 72,
     "metadata": {},
     "output_type": "execute_result"
    }
   ],
   "source": [
    "model, summary, rmse, r_squared"
   ]
  },
  {
   "cell_type": "code",
   "execution_count": 74,
   "id": "3080305f-01dd-414c-bddd-2100c5d0597e",
   "metadata": {},
   "outputs": [],
   "source": [
    "model, summary, rmse, r_squared = call_decision_tree(train_df, test_df, \"cost\", max_depth = 17, random_state = 4)"
   ]
  },
  {
   "cell_type": "code",
   "execution_count": 76,
   "id": "2f9c4365-5495-499b-9843-cabcaab8ca58",
   "metadata": {},
   "outputs": [
    {
     "data": {
      "text/plain": [
       "(DecisionTreeRegressor(max_depth=17, random_state=4),\n",
       " 'Depth: 17, Number of leaves: 314',\n",
       " 0.1695714333211574,\n",
       " 0.6864353023565452)"
      ]
     },
     "execution_count": 76,
     "metadata": {},
     "output_type": "execute_result"
    }
   ],
   "source": [
    "model, summary, rmse, r_squared"
   ]
  },
  {
   "cell_type": "code",
   "execution_count": 78,
   "id": "bdb22deb-d22a-4f81-8e12-6c7672ea1443",
   "metadata": {},
   "outputs": [],
   "source": [
    "model, summary, rmse, r_squared = call_decision_tree(train_df, test_df, \"cost\", max_depth = 18, random_state = 4)"
   ]
  },
  {
   "cell_type": "code",
   "execution_count": 80,
   "id": "cadca0de-9d4c-43d1-b702-13b76e7f5c2e",
   "metadata": {},
   "outputs": [
    {
     "data": {
      "text/plain": [
       "(DecisionTreeRegressor(max_depth=18, random_state=4),\n",
       " 'Depth: 18, Number of leaves: 354',\n",
       " 0.16407787297233664,\n",
       " 0.7064231442727954)"
      ]
     },
     "execution_count": 80,
     "metadata": {},
     "output_type": "execute_result"
    }
   ],
   "source": [
    "model, summary, rmse, r_squared"
   ]
  },
  {
   "cell_type": "code",
   "execution_count": 82,
   "id": "6760fa54-9227-476c-94f9-f6f2630ec9ac",
   "metadata": {},
   "outputs": [],
   "source": [
    "model, summary, rmse, r_squared = call_decision_tree(train_df, test_df, \"cost\", max_depth = 19, random_state = 4)"
   ]
  },
  {
   "cell_type": "code",
   "execution_count": 84,
   "id": "7db4ce94-0820-480b-9aa0-70bd628af0e0",
   "metadata": {},
   "outputs": [
    {
     "data": {
      "text/plain": [
       "(DecisionTreeRegressor(max_depth=19, random_state=4),\n",
       " 'Depth: 19, Number of leaves: 371',\n",
       " 0.1533383396017471,\n",
       " 0.7435968876975751)"
      ]
     },
     "execution_count": 84,
     "metadata": {},
     "output_type": "execute_result"
    }
   ],
   "source": [
    "model, summary, rmse, r_squared"
   ]
  },
  {
   "cell_type": "code",
   "execution_count": 86,
   "id": "2547e701-d91a-4161-b8ed-e17b13391f4e",
   "metadata": {},
   "outputs": [],
   "source": [
    "model, summary, rmse, r_squared = call_decision_tree(train_df, test_df, \"cost\", max_depth = 20, random_state = 4)"
   ]
  },
  {
   "cell_type": "code",
   "execution_count": 88,
   "id": "fc5631f0-69da-4418-a9b5-1e93ecb92e13",
   "metadata": {},
   "outputs": [
    {
     "data": {
      "text/plain": [
       "(DecisionTreeRegressor(max_depth=20, random_state=4),\n",
       " 'Depth: 20, Number of leaves: 427',\n",
       " 0.14577218815120768,\n",
       " 0.7682759417576591)"
      ]
     },
     "execution_count": 88,
     "metadata": {},
     "output_type": "execute_result"
    }
   ],
   "source": [
    "model, summary, rmse, r_squared"
   ]
  },
  {
   "cell_type": "code",
   "execution_count": 90,
   "id": "ca9375c3-0b19-40f4-80b3-32ce4727f8df",
   "metadata": {},
   "outputs": [],
   "source": [
    "model, summary, rmse, r_squared = call_decision_tree(train_df, test_df, \"cost\", max_depth = 21, random_state = 4)"
   ]
  },
  {
   "cell_type": "code",
   "execution_count": 92,
   "id": "1194885f-b4a9-4247-8689-047db4b2e9b1",
   "metadata": {},
   "outputs": [
    {
     "data": {
      "text/plain": [
       "(DecisionTreeRegressor(max_depth=21, random_state=4),\n",
       " 'Depth: 21, Number of leaves: 451',\n",
       " 0.1358446516550098,\n",
       " 0.7987634473494297)"
      ]
     },
     "execution_count": 92,
     "metadata": {},
     "output_type": "execute_result"
    }
   ],
   "source": [
    "model, summary, rmse, r_squared"
   ]
  },
  {
   "cell_type": "code",
   "execution_count": 94,
   "id": "bd3351f2-9dbc-4ab0-acb3-6ac8ab267441",
   "metadata": {},
   "outputs": [],
   "source": [
    "model, summary, rmse, r_squared = call_decision_tree(train_df, test_df, \"cost\", max_depth = 22, random_state = 4)"
   ]
  },
  {
   "cell_type": "code",
   "execution_count": 95,
   "id": "e3bb281b-b690-4f08-a31d-d1451babd43e",
   "metadata": {},
   "outputs": [
    {
     "data": {
      "text/plain": [
       "(DecisionTreeRegressor(max_depth=22, random_state=4),\n",
       " 'Depth: 22, Number of leaves: 473',\n",
       " 0.12980954502371944,\n",
       " 0.816246747312353)"
      ]
     },
     "execution_count": 95,
     "metadata": {},
     "output_type": "execute_result"
    }
   ],
   "source": [
    "model, summary, rmse, r_squared"
   ]
  },
  {
   "cell_type": "markdown",
   "id": "7f52fcc7-97e5-41bb-8a81-4434734b0327",
   "metadata": {},
   "source": [
    "## Evaluating Decision Tree Performance Over Multiple Depths"
   ]
  },
  {
   "cell_type": "markdown",
   "id": "9487d417-acef-4be6-bb00-add751268fd5",
   "metadata": {},
   "source": [
    "##### This function evaluates a Decision Tree regression model's performance across a range of maximum depths (from 8 to 22 inclusive). It calculates performance metrics—Root Mean Squared Error (RMSE) and R-squared (R²)—for each specified depth, allowing comparison to identify the optimal tree depth.\n",
    "\n",
    "#### Parameters:\n",
    "##### train_df (pd.DataFrame): Training dataset.\n",
    "\n",
    "##### test_df (pd.DataFrame): Testing dataset.\n",
    "\n",
    "##### response_variable (str): Name of the target variable column to predict.\n",
    "\n",
    "##### random_state (int or None, default=None): Controls randomness for reproducibility.\n",
    "\n",
    "#### Returns:\n",
    "##### pd.DataFrame: A DataFrame containing:\n",
    "\n",
    "##### max_depth: The maximum depth used for training each decision tree.\n",
    "\n",
    "##### rmse: Root Mean Squared Error for predictions at each depth.\n",
    "\n",
    "##### r_squared: R-squared (R²) for predictions at each depth."
   ]
  },
  {
   "cell_type": "code",
   "execution_count": 96,
   "id": "e65d8ddb-1346-4ab1-92b1-eb8ca6a2f49b",
   "metadata": {},
   "outputs": [],
   "source": [
    "## Evaluating Decision Tree\n",
    "\n",
    "def evaluate_decison_tree(train_df, test_df, response_variable, random_state = None):\n",
    "    results = []\n",
    "    for max_depth in range(8, 23):\n",
    "        _, _, rmse, r_squared = call_decision_tree(train_df, test_df, response_variable, max_depth, random_state)\n",
    "        results.append({\"max_depth\": max_depth, \"rmse\": rmse, \"r_squared\": r_squared})\n",
    "\n",
    "    return pd.DataFrame(results)"
   ]
  },
  {
   "cell_type": "code",
   "execution_count": 97,
   "id": "752f850d-b80d-47a5-aded-7fe14d6c38db",
   "metadata": {},
   "outputs": [],
   "source": [
    "results = evaluate_decison_tree(train_df, test_df, \"cost\", random_state = 4)"
   ]
  },
  {
   "cell_type": "code",
   "execution_count": 98,
   "id": "ae2bd753-6181-4988-932b-a4422dfc3da4",
   "metadata": {},
   "outputs": [
    {
     "data": {
      "text/html": [
       "<div>\n",
       "<style scoped>\n",
       "    .dataframe tbody tr th:only-of-type {\n",
       "        vertical-align: middle;\n",
       "    }\n",
       "\n",
       "    .dataframe tbody tr th {\n",
       "        vertical-align: top;\n",
       "    }\n",
       "\n",
       "    .dataframe thead th {\n",
       "        text-align: right;\n",
       "    }\n",
       "</style>\n",
       "<table border=\"1\" class=\"dataframe\">\n",
       "  <thead>\n",
       "    <tr style=\"text-align: right;\">\n",
       "      <th></th>\n",
       "      <th>max_depth</th>\n",
       "      <th>rmse</th>\n",
       "      <th>r_squared</th>\n",
       "    </tr>\n",
       "  </thead>\n",
       "  <tbody>\n",
       "    <tr>\n",
       "      <th>0</th>\n",
       "      <td>8</td>\n",
       "      <td>0.245874</td>\n",
       "      <td>0.340753</td>\n",
       "    </tr>\n",
       "    <tr>\n",
       "      <th>1</th>\n",
       "      <td>9</td>\n",
       "      <td>0.233650</td>\n",
       "      <td>0.404677</td>\n",
       "    </tr>\n",
       "    <tr>\n",
       "      <th>2</th>\n",
       "      <td>10</td>\n",
       "      <td>0.221780</td>\n",
       "      <td>0.463628</td>\n",
       "    </tr>\n",
       "    <tr>\n",
       "      <th>3</th>\n",
       "      <td>11</td>\n",
       "      <td>0.210353</td>\n",
       "      <td>0.517476</td>\n",
       "    </tr>\n",
       "    <tr>\n",
       "      <th>4</th>\n",
       "      <td>12</td>\n",
       "      <td>0.204077</td>\n",
       "      <td>0.545840</td>\n",
       "    </tr>\n",
       "    <tr>\n",
       "      <th>5</th>\n",
       "      <td>13</td>\n",
       "      <td>0.196010</td>\n",
       "      <td>0.581034</td>\n",
       "    </tr>\n",
       "    <tr>\n",
       "      <th>6</th>\n",
       "      <td>14</td>\n",
       "      <td>0.187418</td>\n",
       "      <td>0.616961</td>\n",
       "    </tr>\n",
       "    <tr>\n",
       "      <th>7</th>\n",
       "      <td>15</td>\n",
       "      <td>0.181271</td>\n",
       "      <td>0.641672</td>\n",
       "    </tr>\n",
       "    <tr>\n",
       "      <th>8</th>\n",
       "      <td>16</td>\n",
       "      <td>0.174463</td>\n",
       "      <td>0.668085</td>\n",
       "    </tr>\n",
       "    <tr>\n",
       "      <th>9</th>\n",
       "      <td>17</td>\n",
       "      <td>0.169571</td>\n",
       "      <td>0.686435</td>\n",
       "    </tr>\n",
       "    <tr>\n",
       "      <th>10</th>\n",
       "      <td>18</td>\n",
       "      <td>0.164078</td>\n",
       "      <td>0.706423</td>\n",
       "    </tr>\n",
       "    <tr>\n",
       "      <th>11</th>\n",
       "      <td>19</td>\n",
       "      <td>0.153338</td>\n",
       "      <td>0.743597</td>\n",
       "    </tr>\n",
       "    <tr>\n",
       "      <th>12</th>\n",
       "      <td>20</td>\n",
       "      <td>0.145772</td>\n",
       "      <td>0.768276</td>\n",
       "    </tr>\n",
       "    <tr>\n",
       "      <th>13</th>\n",
       "      <td>21</td>\n",
       "      <td>0.135845</td>\n",
       "      <td>0.798763</td>\n",
       "    </tr>\n",
       "    <tr>\n",
       "      <th>14</th>\n",
       "      <td>22</td>\n",
       "      <td>0.129810</td>\n",
       "      <td>0.816247</td>\n",
       "    </tr>\n",
       "  </tbody>\n",
       "</table>\n",
       "</div>"
      ],
      "text/plain": [
       "    max_depth      rmse  r_squared\n",
       "0           8  0.245874   0.340753\n",
       "1           9  0.233650   0.404677\n",
       "2          10  0.221780   0.463628\n",
       "3          11  0.210353   0.517476\n",
       "4          12  0.204077   0.545840\n",
       "5          13  0.196010   0.581034\n",
       "6          14  0.187418   0.616961\n",
       "7          15  0.181271   0.641672\n",
       "8          16  0.174463   0.668085\n",
       "9          17  0.169571   0.686435\n",
       "10         18  0.164078   0.706423\n",
       "11         19  0.153338   0.743597\n",
       "12         20  0.145772   0.768276\n",
       "13         21  0.135845   0.798763\n",
       "14         22  0.129810   0.816247"
      ]
     },
     "execution_count": 98,
     "metadata": {},
     "output_type": "execute_result"
    }
   ],
   "source": [
    "results"
   ]
  },
  {
   "cell_type": "markdown",
   "id": "1d177031-dc36-4b82-9797-3db9b8e95e71",
   "metadata": {},
   "source": [
    "#### The above output clearly summarizes how predictive performance changes as the depth of the Decision Tree varies, aiding in choosing the most appropriate complexity for the model."
   ]
  },
  {
   "cell_type": "markdown",
   "id": "154922c7-06b2-49c4-aed6-c42bb20b23b0",
   "metadata": {},
   "source": [
    "## Plotting Decision Tree Evaluation Metrics"
   ]
  },
  {
   "cell_type": "markdown",
   "id": "c5a717f7-5917-4e58-a57b-f010da1840fa",
   "metadata": {},
   "source": [
    "##### This function creates a line plot to visualize how the Decision Tree model’s performance metrics—Root Mean Squared Error (RMSE) and R-squared (R²)—change with varying maximum tree depths. The visualization helps in easily identifying the optimal depth of the decision tree model.\n",
    "\n",
    "#### Parameters:\n",
    "##### results_df (pd.DataFrame):\n",
    "##### DataFrame containing at least the following columns:\n",
    "\n",
    "##### max_depth: Depth of the decision tree.\n",
    "\n",
    "##### rmse: Corresponding RMSE values.\n",
    "\n",
    "##### r_squared: Corresponding R² values.\n",
    "\n",
    "#### Functionality:\n",
    "##### Creates a plot with two curves:\n",
    "\n",
    "##### RMSE (blue line with circles)\n",
    "\n",
    "##### R-squared (red line with squares)\n",
    "\n",
    "##### Sets appropriate labels and titles for clarity.\n",
    "\n",
    "##### Adds a grid and legend for better readability."
   ]
  },
  {
   "cell_type": "code",
   "execution_count": 99,
   "id": "9e68e746-d554-4aa8-a4e6-b5710935c619",
   "metadata": {},
   "outputs": [],
   "source": [
    "## Visualizing\n",
    "\n",
    "def plot_results(results_df):\n",
    "    plt.figure(figsize=(10, 5))\n",
    "    plt.plot(results_df[\"max_depth\"], results_df[\"rmse\"], marker='o', label='RMSE', color='b')\n",
    "    plt.plot(results_df[\"max_depth\"], results_df[\"r_squared\"], marker='s', label='R-squared', color='r')\n",
    "    plt.xlabel(\"Max Depth\")\n",
    "    plt.ylabel(\"Metric Value\")\n",
    "    plt.title(\"Decision Tree Performance: RMSE and R-squared vs Max Depth\")\n",
    "    plt.legend()\n",
    "    plt.grid()\n",
    "    plt.show()"
   ]
  },
  {
   "cell_type": "code",
   "execution_count": 100,
   "id": "ead70486-0a02-44e0-ab96-d8ba9b25d63a",
   "metadata": {},
   "outputs": [
    {
     "data": {
      "image/png": "[encoded data removed]",
      "text/plain": [
       "<Figure size 1000x500 with 1 Axes>"
      ]
     },
     "metadata": {},
     "output_type": "display_data"
    }
   ],
   "source": [
    "viz = plot_results(results_df = results)\n",
    "viz"
   ]
  },
  {
   "cell_type": "markdown",
   "id": "3ed9050f-cfed-45ae-927e-758336375585",
   "metadata": {},
   "source": [
    "### Visualization Outcome:\n",
    "##### X-axis: Maximum Depth of Decision Tree (max_depth)\n",
    "\n",
    "##### Y-axis: Value of RMSE and R-squared metrics\n",
    "\n",
    "##### Clear identification of performance trends with increasing depth, aiding in model tuning decisions."
   ]
  },
  {
   "cell_type": "markdown",
   "id": "d29e139e-8a10-4656-a8e7-0fe350a73a09",
   "metadata": {},
   "source": [
    "## Random Forest"
   ]
  },
  {
   "cell_type": "code",
   "execution_count": 113,
   "id": "80901890-953b-4923-b2f1-0ed4269d16ed",
   "metadata": {},
   "outputs": [],
   "source": [
    "def call_random_forest(train_df, test_df, response_variable, random_state=None, max_depth=None, n_estimators=None):\n",
    "    # Split into features and target\n",
    "    x_train = train_df.drop(columns=[response_variable])\n",
    "    y_train = train_df[response_variable]\n",
    "    x_test = test_df.drop(columns=[response_variable])\n",
    "    y_test = test_df[response_variable]\n",
    "\n",
    "    # Initialize and train Random Forest Regressor\n",
    "    rf = RandomForestRegressor(random_state=random_state, max_depth=max_depth, n_estimators=n_estimators)\n",
    "    rf.fit(x_train, y_train)\n",
    "\n",
    "    # Predict on test set\n",
    "    preds = rf.predict(x_test)\n",
    "\n",
    "    # Compute evaluation metrics\n",
    "    rmse = np.sqrt(mean_squared_error(y_test, preds))\n",
    "    r_squared = r2_score(y_test, preds)\n",
    "\n",
    "    return rf, rmse, r_squared"
   ]
  },
  {
   "cell_type": "code",
   "execution_count": 114,
   "id": "0a6ba888-fabc-4351-a990-af7d18d9c249",
   "metadata": {},
   "outputs": [],
   "source": [
    "rf, rmse, r_squared = call_random_forest(train_df, test_df, \"cost\", random_state=4, max_depth = 2, n_estimators = 1000)"
   ]
  },
  {
   "cell_type": "code",
   "execution_count": 115,
   "id": "3bb97310-8c07-4b52-bb7b-61a65620f605",
   "metadata": {},
   "outputs": [
    {
     "data": {
      "text/plain": [
       "(RandomForestRegressor(max_depth=2, n_estimators=1000, random_state=4),\n",
       " 0.2936131434583558,\n",
       " 0.059902786726942936)"
      ]
     },
     "execution_count": 115,
     "metadata": {},
     "output_type": "execute_result"
    }
   ],
   "source": [
    "rf, rmse, r_squared"
   ]
  },
  {
   "cell_type": "code",
   "execution_count": 116,
   "id": "4719a189-df95-48dd-9aa6-f87581b2d22f",
   "metadata": {},
   "outputs": [
    {
     "name": "stdout",
     "output_type": "stream",
     "text": [
      "{'bootstrap': True, 'ccp_alpha': 0.0, 'criterion': 'squared_error', 'max_depth': 2, 'max_features': 1.0, 'max_leaf_nodes': None, 'max_samples': None, 'min_impurity_decrease': 0.0, 'min_samples_leaf': 1, 'min_samples_split': 2, 'min_weight_fraction_leaf': 0.0, 'monotonic_cst': None, 'n_estimators': 1000, 'n_jobs': None, 'oob_score': False, 'random_state': 4, 'verbose': 0, 'warm_start': False}\n"
     ]
    }
   ],
   "source": [
    "print(rf.get_params())"
   ]
  },
  {
   "cell_type": "code",
   "execution_count": 118,
   "id": "10a2f62b-113f-4466-893f-93972137cdd2",
   "metadata": {},
   "outputs": [],
   "source": [
    "rf, rmse, r_squared = call_random_forest(train_df, test_df, \"cost\", random_state=4, max_depth = 5, n_estimators = 1000)"
   ]
  },
  {
   "cell_type": "code",
   "execution_count": 119,
   "id": "3e4c6898-6cdf-4674-941e-3b4bb49c0649",
   "metadata": {},
   "outputs": [
    {
     "data": {
      "text/plain": [
       "(RandomForestRegressor(max_depth=5, n_estimators=1000, random_state=4),\n",
       " 0.2622929940669216,\n",
       " 0.2497687311122394)"
      ]
     },
     "execution_count": 119,
     "metadata": {},
     "output_type": "execute_result"
    }
   ],
   "source": [
    "rf, rmse, r_squared"
   ]
  },
  {
   "cell_type": "code",
   "execution_count": 120,
   "id": "384d5012-2f06-4d1a-b016-dad8a049c8c7",
   "metadata": {},
   "outputs": [],
   "source": [
    "rf, rmse, r_squared = call_random_forest(train_df, test_df, \"cost\", random_state=4, max_depth = 8, n_estimators = 1000)"
   ]
  },
  {
   "cell_type": "code",
   "execution_count": 121,
   "id": "b624e02a-2447-48c1-bd57-6af6b89b740a",
   "metadata": {},
   "outputs": [
    {
     "data": {
      "text/plain": [
       "(RandomForestRegressor(max_depth=8, n_estimators=1000, random_state=4),\n",
       " 0.22927132578125112,\n",
       " 0.42678009262357897)"
      ]
     },
     "execution_count": 121,
     "metadata": {},
     "output_type": "execute_result"
    }
   ],
   "source": [
    "rf, rmse, r_squared"
   ]
  },
  {
   "cell_type": "code",
   "execution_count": 122,
   "id": "b708a69f-cf83-4409-a27d-9589b3f3b5f0",
   "metadata": {},
   "outputs": [],
   "source": [
    "rf, rmse, r_squared = call_random_forest(train_df, test_df, \"cost\", random_state=4, max_depth = 10, n_estimators = 1000)"
   ]
  },
  {
   "cell_type": "code",
   "execution_count": 123,
   "id": "030b1266-181b-43d6-a924-76487c9da9b6",
   "metadata": {},
   "outputs": [
    {
     "data": {
      "text/plain": [
       "(RandomForestRegressor(max_depth=10, n_estimators=1000, random_state=4),\n",
       " 0.20199024230301615,\n",
       " 0.5550793528169434)"
      ]
     },
     "execution_count": 123,
     "metadata": {},
     "output_type": "execute_result"
    }
   ],
   "source": [
    "rf, rmse, r_squared"
   ]
  },
  {
   "cell_type": "code",
   "execution_count": 124,
   "id": "a3d4a358-9c3e-4325-8ba3-e32135c6a619",
   "metadata": {},
   "outputs": [],
   "source": [
    "rf, rmse, r_squared = call_random_forest(train_df, test_df, \"cost\", random_state=4, max_depth = 13, n_estimators = 1000)"
   ]
  },
  {
   "cell_type": "code",
   "execution_count": 125,
   "id": "aa2b3a30-c514-48fa-a20d-346bdd5fb9c9",
   "metadata": {},
   "outputs": [
    {
     "data": {
      "text/plain": [
       "(RandomForestRegressor(max_depth=13, n_estimators=1000, random_state=4),\n",
       " 0.17137689748980847,\n",
       " 0.6797225716908579)"
      ]
     },
     "execution_count": 125,
     "metadata": {},
     "output_type": "execute_result"
    }
   ],
   "source": [
    "rf, rmse, r_squared"
   ]
  },
  {
   "cell_type": "code",
   "execution_count": 126,
   "id": "0a593bc7-555e-4e2c-833f-b97212bb1ca4",
   "metadata": {},
   "outputs": [],
   "source": [
    "rf, rmse, r_squared = call_random_forest(train_df, test_df, \"cost\", random_state=4, max_depth = 16, n_estimators = 1000)"
   ]
  },
  {
   "cell_type": "code",
   "execution_count": 127,
   "id": "73492aca-a5a2-4f52-bd07-f9fbf9d48307",
   "metadata": {},
   "outputs": [
    {
     "data": {
      "text/plain": [
       "(RandomForestRegressor(max_depth=16, n_estimators=1000, random_state=4),\n",
       " 0.14803958630200545,\n",
       " 0.761011223698855)"
      ]
     },
     "execution_count": 127,
     "metadata": {},
     "output_type": "execute_result"
    }
   ],
   "source": [
    "rf, rmse, r_squared"
   ]
  },
  {
   "cell_type": "code",
   "execution_count": 128,
   "id": "d5c2a7b3-4aec-4e54-991a-838eb8e91782",
   "metadata": {},
   "outputs": [],
   "source": [
    "rf, rmse, r_squared = call_random_forest(train_df, test_df, \"cost\", random_state=4, max_depth = 18, n_estimators = 1000)"
   ]
  },
  {
   "cell_type": "code",
   "execution_count": 129,
   "id": "6519b1d3-327b-4615-a66b-8a43759b53ad",
   "metadata": {},
   "outputs": [
    {
     "data": {
      "text/plain": [
       "(RandomForestRegressor(max_depth=18, n_estimators=1000, random_state=4),\n",
       " 0.13286237942177026,\n",
       " 0.8075021728067884)"
      ]
     },
     "execution_count": 129,
     "metadata": {},
     "output_type": "execute_result"
    }
   ],
   "source": [
    "rf, rmse, r_squared"
   ]
  },
  {
   "cell_type": "code",
   "execution_count": 136,
   "id": "d6c4bcf8-1baa-4bc1-bf4f-eecdad34b83a",
   "metadata": {},
   "outputs": [],
   "source": [
    "## Evaluating Random Forest\n",
    "\n",
    "def evaluate_random_forest(train_df, test_df, response_variable, random_state = None, n_estimators = None):\n",
    "    results = []\n",
    "    for max_depth in range(2, 19):\n",
    "        rf, rmse, r_squared = call_random_forest(train_df, test_df, response_variable, random_state, max_depth, n_estimators)\n",
    "        results.append({\"max_depth\": max_depth, \"rmse\": rmse, \"r_squared\": r_squared})\n",
    "\n",
    "    return pd.DataFrame(results)"
   ]
  },
  {
   "cell_type": "code",
   "execution_count": null,
   "id": "528d1640-56ee-48fa-9792-6670217d4cf4",
   "metadata": {},
   "outputs": [],
   "source": [
    "results = evaluate_random_forest(train_df, test_df, \"cost\", random_state = 4, n_estimators = 2000)"
   ]
  },
  {
   "cell_type": "code",
   "execution_count": null,
   "id": "fcd490a3-cc78-472d-8149-d1584765c444",
   "metadata": {},
   "outputs": [],
   "source": [
    "## Visualizing\n",
    "S\n",
    "def plot_results(results_df):\n",
    "    plt.figure(figsize=(10, 5))\n",
    "    plt.plot(results_df[\"max_depth\"], results_df[\"rmse\"], marker='o', label='RMSE', color='b')\n",
    "    plt.plot(results_df[\"max_depth\"], results_df[\"r_squared\"], marker='s', label='R-squared', color='r')\n",
    "    plt.xlabel(\"Max Depth\")\n",
    "    plt.ylabel(\"Metric Value\")\n",
    "    plt.title(\"Decision Tree Performance: RMSE and R-squared vs Max Depth\")\n",
    "    plt.legend()\n",
    "    plt.grid()\n",
    "    plt.show()"
   ]
  },
  {
   "cell_type": "code",
   "execution_count": null,
   "id": "8845b759-8f19-4fd4-bfa8-ceb5388c2caa",
   "metadata": {},
   "outputs": [],
   "source": [
    "viz = plot_results(results_df = results)\n",
    "viz"
   ]
  }
 ],
 "metadata": {
  "kernelspec": {
   "display_name": "Python 3 (ipykernel)",
   "language": "python",
   "name": "python3"
  },
  "language_info": {
   "codemirror_mode": {
    "name": "ipython",
    "version": 3
   },
   "file_extension": ".py",
   "mimetype": "text/x-python",
   "name": "python",
   "nbconvert_exporter": "python",
   "pygments_lexer": "ipython3",
   "version": "3.11.8"
  }
 },
 "nbformat": 4,
 "nbformat_minor": 5
}
